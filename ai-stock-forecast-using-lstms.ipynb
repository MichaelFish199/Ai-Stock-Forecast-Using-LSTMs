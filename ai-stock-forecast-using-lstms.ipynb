{
 "cells": [
  {
   "cell_type": "markdown",
   "id": "b302ec00",
   "metadata": {
    "execution": {
     "iopub.execute_input": "2023-03-11T19:58:17.697812Z",
     "iopub.status.busy": "2023-03-11T19:58:17.696406Z",
     "iopub.status.idle": "2023-03-11T19:58:17.706170Z",
     "shell.execute_reply": "2023-03-11T19:58:17.704129Z",
     "shell.execute_reply.started": "2023-03-11T19:58:17.697755Z"
    },
    "papermill": {
     "duration": 0.008952,
     "end_time": "2023-03-12T10:24:38.728378",
     "exception": false,
     "start_time": "2023-03-12T10:24:38.719426",
     "status": "completed"
    },
    "tags": []
   },
   "source": [
    "<style>\n",
    "#notebook-container .rendered_html table {\n",
    "    display: none;\n",
    "}\n",
    "</style>"
   ]
  },
  {
   "cell_type": "markdown",
   "id": "e2e4be49",
   "metadata": {
    "papermill": {
     "duration": 0.007493,
     "end_time": "2023-03-12T10:24:38.743847",
     "exception": false,
     "start_time": "2023-03-12T10:24:38.736354",
     "status": "completed"
    },
    "tags": []
   },
   "source": [
    "# <div style=\"padding:15px;background-color:#f4ebdc;border-radius:20px;margin:0;color:#8b4726;border:2px dotted #aaaaaa;font-family:Charter;font-weight: bold;font-size:130%;text-align:center;overflow:hidden;font-weight:500\">AI Stock Forecast 📈 Using LSTMs</div>"
   ]
  },
  {
   "cell_type": "markdown",
   "id": "16383cc7",
   "metadata": {
    "papermill": {
     "duration": 0.007288,
     "end_time": "2023-03-12T10:24:38.758821",
     "exception": false,
     "start_time": "2023-03-12T10:24:38.751533",
     "status": "completed"
    },
    "tags": []
   },
   "source": [
    "Welcome to my notebook on AI Stock Forecast 📈 Using LSTMs! In this project, we will be using a dataset called C3.AI Stocks Dataset, which is a collection of stock market data sourced from Yahoo for the period from March 2022 to March 2023. This dataset contains several columns of data for each stock, including the date on which the stock market data was recorded, the opening price of the stock, the highest and lowest prices of the stock on a given day, the closing price of the stock, the adjusted closing price that accounts for any corporate actions that may have affected the stock's price, and the total number of shares traded in the stock on a given day.\n",
    "\n",
    "Our goal in this project is to use Long Short-Term Memory (LSTM) neural networks, a type of Recurrent Neural Networks (RNN), to predict the future stock prices of the AI company. LSTM networks are a powerful type of neural networks that can capture long-term dependencies in time-series data, making them ideal for stock price prediction tasks.\n",
    "\n",
    "We will start by performing exploratory data analysis on the C3.AI Stocks Dataset to gain insights into the data and understand the trends and patterns. Then, we will preprocess the data and split it into training, validation and testing sets. After that, we will build and train our LSTM model on the training set and use it to predict the future stock prices on other sets.\n",
    "\n",
    "By the end of this notebook, you will have a solid understanding of how to use LSTM networks to forecast stock prices and will be able to apply this knowledge to other forecasting tasks as well. Let's get started!"
   ]
  },
  {
   "cell_type": "markdown",
   "id": "d54d34c1",
   "metadata": {
    "execution": {
     "iopub.execute_input": "2023-03-10T15:53:28.651851Z",
     "iopub.status.busy": "2023-03-10T15:53:28.651108Z",
     "iopub.status.idle": "2023-03-10T15:53:28.662736Z",
     "shell.execute_reply": "2023-03-10T15:53:28.661526Z",
     "shell.execute_reply.started": "2023-03-10T15:53:28.651809Z"
    },
    "papermill": {
     "duration": 0.007496,
     "end_time": "2023-03-12T10:24:38.774208",
     "exception": false,
     "start_time": "2023-03-12T10:24:38.766712",
     "status": "completed"
    },
    "tags": []
   },
   "source": [
    "# <div style=\"color:white;display:fill;border-radius:20px;background-color:#f4ebdc;font-size:70%;font-family:Charter;letter-spacing:1px\"><h3 style='padding: 20px;color:#8b4726;text-align:center;'>Importing Main Dependencies</h3></div>"
   ]
  },
  {
   "cell_type": "code",
   "execution_count": 1,
   "id": "87e0667a",
   "metadata": {
    "execution": {
     "iopub.execute_input": "2023-03-12T10:24:38.792530Z",
     "iopub.status.busy": "2023-03-12T10:24:38.791878Z",
     "iopub.status.idle": "2023-03-12T10:24:40.524377Z",
     "shell.execute_reply": "2023-03-12T10:24:40.523482Z"
    },
    "papermill": {
     "duration": 1.744421,
     "end_time": "2023-03-12T10:24:40.526895",
     "exception": false,
     "start_time": "2023-03-12T10:24:38.782474",
     "status": "completed"
    },
    "tags": []
   },
   "outputs": [],
   "source": [
    "import pandas as pd # for data manipulation\n",
    "import numpy as np # for linear algebra\n",
    "import matplotlib.pyplot as plt # for plotting\n",
    "import plotly.express as px # for plotting\n",
    "import plotly.graph_objs as go # for plotting"
   ]
  },
  {
   "cell_type": "markdown",
   "id": "1760ddc5",
   "metadata": {
    "execution": {
     "iopub.execute_input": "2023-03-10T15:54:25.246491Z",
     "iopub.status.busy": "2023-03-10T15:54:25.246092Z",
     "iopub.status.idle": "2023-03-10T15:54:25.252893Z",
     "shell.execute_reply": "2023-03-10T15:54:25.251666Z",
     "shell.execute_reply.started": "2023-03-10T15:54:25.246456Z"
    },
    "papermill": {
     "duration": 0.007625,
     "end_time": "2023-03-12T10:24:40.542544",
     "exception": false,
     "start_time": "2023-03-12T10:24:40.534919",
     "status": "completed"
    },
    "tags": []
   },
   "source": [
    "# <div style=\"color:white;display:fill;border-radius:20px;background-color:#f4ebdc;font-size:70%;font-family:Charter;letter-spacing:1px\"><h3 style='padding: 20px;color:#8b4726;text-align:center;'>Loading Dataset</h3></div>"
   ]
  },
  {
   "cell_type": "code",
   "execution_count": 2,
   "id": "18019517",
   "metadata": {
    "execution": {
     "iopub.execute_input": "2023-03-12T10:24:40.560094Z",
     "iopub.status.busy": "2023-03-12T10:24:40.559393Z",
     "iopub.status.idle": "2023-03-12T10:24:40.563477Z",
     "shell.execute_reply": "2023-03-12T10:24:40.562487Z"
    },
    "papermill": {
     "duration": 0.01513,
     "end_time": "2023-03-12T10:24:40.565612",
     "exception": false,
     "start_time": "2023-03-12T10:24:40.550482",
     "status": "completed"
    },
    "tags": []
   },
   "outputs": [],
   "source": [
    "# Getting path of dataset\n",
    "dataset_path = \"/kaggle/input/c3ai-stocks-dataset/AI.csv\""
   ]
  },
  {
   "cell_type": "code",
   "execution_count": 3,
   "id": "d1bb7b0e",
   "metadata": {
    "execution": {
     "iopub.execute_input": "2023-03-12T10:24:40.582907Z",
     "iopub.status.busy": "2023-03-12T10:24:40.582599Z",
     "iopub.status.idle": "2023-03-12T10:24:40.624653Z",
     "shell.execute_reply": "2023-03-12T10:24:40.623388Z"
    },
    "papermill": {
     "duration": 0.052683,
     "end_time": "2023-03-12T10:24:40.626916",
     "exception": false,
     "start_time": "2023-03-12T10:24:40.574233",
     "status": "completed"
    },
    "tags": []
   },
   "outputs": [
    {
     "data": {
      "text/html": [
       "<div>\n",
       "<style scoped>\n",
       "    .dataframe tbody tr th:only-of-type {\n",
       "        vertical-align: middle;\n",
       "    }\n",
       "\n",
       "    .dataframe tbody tr th {\n",
       "        vertical-align: top;\n",
       "    }\n",
       "\n",
       "    .dataframe thead th {\n",
       "        text-align: right;\n",
       "    }\n",
       "</style>\n",
       "<table border=\"1\" class=\"dataframe\">\n",
       "  <thead>\n",
       "    <tr style=\"text-align: right;\">\n",
       "      <th></th>\n",
       "      <th>Close</th>\n",
       "    </tr>\n",
       "    <tr>\n",
       "      <th>Date</th>\n",
       "      <th></th>\n",
       "    </tr>\n",
       "  </thead>\n",
       "  <tbody>\n",
       "    <tr>\n",
       "      <th>2022-03-10</th>\n",
       "      <td>19.959999</td>\n",
       "    </tr>\n",
       "    <tr>\n",
       "      <th>2022-03-11</th>\n",
       "      <td>18.000000</td>\n",
       "    </tr>\n",
       "    <tr>\n",
       "      <th>2022-03-14</th>\n",
       "      <td>16.910000</td>\n",
       "    </tr>\n",
       "    <tr>\n",
       "      <th>2022-03-15</th>\n",
       "      <td>17.469999</td>\n",
       "    </tr>\n",
       "    <tr>\n",
       "      <th>2022-03-16</th>\n",
       "      <td>19.299999</td>\n",
       "    </tr>\n",
       "  </tbody>\n",
       "</table>\n",
       "</div>"
      ],
      "text/plain": [
       "                Close\n",
       "Date                 \n",
       "2022-03-10  19.959999\n",
       "2022-03-11  18.000000\n",
       "2022-03-14  16.910000\n",
       "2022-03-15  17.469999\n",
       "2022-03-16  19.299999"
      ]
     },
     "execution_count": 3,
     "metadata": {},
     "output_type": "execute_result"
    }
   ],
   "source": [
    "# Loading dataset\n",
    "df = pd.read_csv(dataset_path, \n",
    "                 usecols=['Date','Close'], \n",
    "                 parse_dates=['Date'], \n",
    "                 index_col='Date')\n",
    "\n",
    "# Displaying our data\n",
    "df.head()"
   ]
  },
  {
   "cell_type": "markdown",
   "id": "332e63d5",
   "metadata": {
    "papermill": {
     "duration": 0.008094,
     "end_time": "2023-03-12T10:24:40.643088",
     "exception": false,
     "start_time": "2023-03-12T10:24:40.634994",
     "status": "completed"
    },
    "tags": []
   },
   "source": [
    "For simplicity we are gonna use only 'Close' column."
   ]
  },
  {
   "cell_type": "markdown",
   "id": "9adfe858",
   "metadata": {
    "papermill": {
     "duration": 0.007839,
     "end_time": "2023-03-12T10:24:40.659159",
     "exception": false,
     "start_time": "2023-03-12T10:24:40.651320",
     "status": "completed"
    },
    "tags": []
   },
   "source": [
    "# <div style=\"color:white;display:fill;border-radius:20px;background-color:#f4ebdc;font-size:70%;font-family:Charter;letter-spacing:1px\"><h3 style='padding: 20px;color:#8b4726;text-align:center;'>Exploratory Data Analysis</h3></div>"
   ]
  },
  {
   "cell_type": "code",
   "execution_count": 4,
   "id": "6c6dc46d",
   "metadata": {
    "execution": {
     "iopub.execute_input": "2023-03-12T10:24:40.676548Z",
     "iopub.status.busy": "2023-03-12T10:24:40.676196Z",
     "iopub.status.idle": "2023-03-12T10:24:40.682365Z",
     "shell.execute_reply": "2023-03-12T10:24:40.681265Z"
    },
    "papermill": {
     "duration": 0.01738,
     "end_time": "2023-03-12T10:24:40.684602",
     "exception": false,
     "start_time": "2023-03-12T10:24:40.667222",
     "status": "completed"
    },
    "tags": []
   },
   "outputs": [
    {
     "data": {
      "text/plain": [
       "(251, 1)"
      ]
     },
     "execution_count": 4,
     "metadata": {},
     "output_type": "execute_result"
    }
   ],
   "source": [
    "# Printing shape of dataframe\n",
    "df.shape"
   ]
  },
  {
   "cell_type": "markdown",
   "id": "df2b9743",
   "metadata": {
    "papermill": {
     "duration": 0.007281,
     "end_time": "2023-03-12T10:24:40.699787",
     "exception": false,
     "start_time": "2023-03-12T10:24:40.692506",
     "status": "completed"
    },
    "tags": []
   },
   "source": [
    "Data from 1 year has only 251 records which make sense."
   ]
  },
  {
   "cell_type": "code",
   "execution_count": 5,
   "id": "a5c9bc35",
   "metadata": {
    "execution": {
     "iopub.execute_input": "2023-03-12T10:24:40.718389Z",
     "iopub.status.busy": "2023-03-12T10:24:40.717573Z",
     "iopub.status.idle": "2023-03-12T10:24:40.736393Z",
     "shell.execute_reply": "2023-03-12T10:24:40.735042Z"
    },
    "papermill": {
     "duration": 0.030299,
     "end_time": "2023-03-12T10:24:40.738855",
     "exception": false,
     "start_time": "2023-03-12T10:24:40.708556",
     "status": "completed"
    },
    "tags": []
   },
   "outputs": [
    {
     "name": "stdout",
     "output_type": "stream",
     "text": [
      "<class 'pandas.core.frame.DataFrame'>\n",
      "DatetimeIndex: 251 entries, 2022-03-10 to 2023-03-09\n",
      "Data columns (total 1 columns):\n",
      " #   Column  Non-Null Count  Dtype  \n",
      "---  ------  --------------  -----  \n",
      " 0   Close   251 non-null    float64\n",
      "dtypes: float64(1)\n",
      "memory usage: 3.9 KB\n"
     ]
    }
   ],
   "source": [
    "# Checking data types of features\n",
    "df.info()"
   ]
  },
  {
   "cell_type": "markdown",
   "id": "cccf76d6",
   "metadata": {
    "execution": {
     "iopub.execute_input": "2023-03-10T18:57:44.124550Z",
     "iopub.status.busy": "2023-03-10T18:57:44.124144Z",
     "iopub.status.idle": "2023-03-10T18:57:44.132498Z",
     "shell.execute_reply": "2023-03-10T18:57:44.130773Z",
     "shell.execute_reply.started": "2023-03-10T18:57:44.124514Z"
    },
    "papermill": {
     "duration": 0.007715,
     "end_time": "2023-03-12T10:24:40.754935",
     "exception": false,
     "start_time": "2023-03-12T10:24:40.747220",
     "status": "completed"
    },
    "tags": []
   },
   "source": [
    "Data types are ok."
   ]
  },
  {
   "cell_type": "code",
   "execution_count": 6,
   "id": "24a79562",
   "metadata": {
    "execution": {
     "iopub.execute_input": "2023-03-12T10:24:40.773292Z",
     "iopub.status.busy": "2023-03-12T10:24:40.772620Z",
     "iopub.status.idle": "2023-03-12T10:24:40.780689Z",
     "shell.execute_reply": "2023-03-12T10:24:40.779444Z"
    },
    "papermill": {
     "duration": 0.01959,
     "end_time": "2023-03-12T10:24:40.782948",
     "exception": false,
     "start_time": "2023-03-12T10:24:40.763358",
     "status": "completed"
    },
    "tags": []
   },
   "outputs": [
    {
     "data": {
      "text/plain": [
       "Close    0\n",
       "dtype: int64"
      ]
     },
     "execution_count": 6,
     "metadata": {},
     "output_type": "execute_result"
    }
   ],
   "source": [
    "# Checking number of missing values\n",
    "df.isna().sum()"
   ]
  },
  {
   "cell_type": "markdown",
   "id": "4646941a",
   "metadata": {
    "papermill": {
     "duration": 0.007637,
     "end_time": "2023-03-12T10:24:40.798906",
     "exception": false,
     "start_time": "2023-03-12T10:24:40.791269",
     "status": "completed"
    },
    "tags": []
   },
   "source": [
    "There are no missing values."
   ]
  },
  {
   "cell_type": "code",
   "execution_count": 7,
   "id": "160d9002",
   "metadata": {
    "execution": {
     "iopub.execute_input": "2023-03-12T10:24:40.816654Z",
     "iopub.status.busy": "2023-03-12T10:24:40.815999Z",
     "iopub.status.idle": "2023-03-12T10:24:42.120761Z",
     "shell.execute_reply": "2023-03-12T10:24:42.119795Z"
    },
    "papermill": {
     "duration": 1.316048,
     "end_time": "2023-03-12T10:24:42.123015",
     "exception": false,
     "start_time": "2023-03-12T10:24:40.806967",
     "status": "completed"
    },
    "tags": []
   },
   "outputs": [
    {
     "data": {
      "text/html": [
       "        <script type=\"text/javascript\">\n",
       "        window.PlotlyConfig = {MathJaxConfig: 'local'};\n",
       "        if (window.MathJax && window.MathJax.Hub && window.MathJax.Hub.Config) {window.MathJax.Hub.Config({SVG: {font: \"STIX-Web\"}});}\n",
       "        if (typeof require !== 'undefined') {\n",
       "        require.undef(\"plotly\");\n",
       "        requirejs.config({\n",
       "            paths: {\n",
       "                'plotly': ['https://cdn.plot.ly/plotly-2.18.0.min']\n",
       "            }\n",
       "        });\n",
       "        require(['plotly'], function(Plotly) {\n",
       "            window._Plotly = Plotly;\n",
       "        });\n",
       "        }\n",
       "        </script>\n",
       "        "
      ]
     },
     "metadata": {},
     "output_type": "display_data"
    },
    {
     "data": {
      "text/html": [
       "<div>                            <div id=\"35ceb4b9-5bd3-4b7a-9aac-bed5945ba956\" class=\"plotly-graph-div\" style=\"height:525px; width:100%;\"></div>            <script type=\"text/javascript\">                require([\"plotly\"], function(Plotly) {                    window.PLOTLYENV=window.PLOTLYENV || {};                                    if (document.getElementById(\"35ceb4b9-5bd3-4b7a-9aac-bed5945ba956\")) {                    Plotly.newPlot(                        \"35ceb4b9-5bd3-4b7a-9aac-bed5945ba956\",                        [{\"hovertemplate\":\"Date=%{x}<br>Close=%{y}<extra></extra>\",\"legendgroup\":\"\",\"line\":{\"color\":\"#636efa\",\"dash\":\"solid\"},\"marker\":{\"symbol\":\"circle\"},\"mode\":\"lines\",\"name\":\"\",\"orientation\":\"v\",\"showlegend\":false,\"x\":[\"2022-03-10T00:00:00\",\"2022-03-11T00:00:00\",\"2022-03-14T00:00:00\",\"2022-03-15T00:00:00\",\"2022-03-16T00:00:00\",\"2022-03-17T00:00:00\",\"2022-03-18T00:00:00\",\"2022-03-21T00:00:00\",\"2022-03-22T00:00:00\",\"2022-03-23T00:00:00\",\"2022-03-24T00:00:00\",\"2022-03-25T00:00:00\",\"2022-03-28T00:00:00\",\"2022-03-29T00:00:00\",\"2022-03-30T00:00:00\",\"2022-03-31T00:00:00\",\"2022-04-01T00:00:00\",\"2022-04-04T00:00:00\",\"2022-04-05T00:00:00\",\"2022-04-06T00:00:00\",\"2022-04-07T00:00:00\",\"2022-04-08T00:00:00\",\"2022-04-11T00:00:00\",\"2022-04-12T00:00:00\",\"2022-04-13T00:00:00\",\"2022-04-14T00:00:00\",\"2022-04-18T00:00:00\",\"2022-04-19T00:00:00\",\"2022-04-20T00:00:00\",\"2022-04-21T00:00:00\",\"2022-04-22T00:00:00\",\"2022-04-25T00:00:00\",\"2022-04-26T00:00:00\",\"2022-04-27T00:00:00\",\"2022-04-28T00:00:00\",\"2022-04-29T00:00:00\",\"2022-05-02T00:00:00\",\"2022-05-03T00:00:00\",\"2022-05-04T00:00:00\",\"2022-05-05T00:00:00\",\"2022-05-06T00:00:00\",\"2022-05-09T00:00:00\",\"2022-05-10T00:00:00\",\"2022-05-11T00:00:00\",\"2022-05-12T00:00:00\",\"2022-05-13T00:00:00\",\"2022-05-16T00:00:00\",\"2022-05-17T00:00:00\",\"2022-05-18T00:00:00\",\"2022-05-19T00:00:00\",\"2022-05-20T00:00:00\",\"2022-05-23T00:00:00\",\"2022-05-24T00:00:00\",\"2022-05-25T00:00:00\",\"2022-05-26T00:00:00\",\"2022-05-27T00:00:00\",\"2022-05-31T00:00:00\",\"2022-06-01T00:00:00\",\"2022-06-02T00:00:00\",\"2022-06-03T00:00:00\",\"2022-06-06T00:00:00\",\"2022-06-07T00:00:00\",\"2022-06-08T00:00:00\",\"2022-06-09T00:00:00\",\"2022-06-10T00:00:00\",\"2022-06-13T00:00:00\",\"2022-06-14T00:00:00\",\"2022-06-15T00:00:00\",\"2022-06-16T00:00:00\",\"2022-06-17T00:00:00\",\"2022-06-21T00:00:00\",\"2022-06-22T00:00:00\",\"2022-06-23T00:00:00\",\"2022-06-24T00:00:00\",\"2022-06-27T00:00:00\",\"2022-06-28T00:00:00\",\"2022-06-29T00:00:00\",\"2022-06-30T00:00:00\",\"2022-07-01T00:00:00\",\"2022-07-05T00:00:00\",\"2022-07-06T00:00:00\",\"2022-07-07T00:00:00\",\"2022-07-08T00:00:00\",\"2022-07-11T00:00:00\",\"2022-07-12T00:00:00\",\"2022-07-13T00:00:00\",\"2022-07-14T00:00:00\",\"2022-07-15T00:00:00\",\"2022-07-18T00:00:00\",\"2022-07-19T00:00:00\",\"2022-07-20T00:00:00\",\"2022-07-21T00:00:00\",\"2022-07-22T00:00:00\",\"2022-07-25T00:00:00\",\"2022-07-26T00:00:00\",\"2022-07-27T00:00:00\",\"2022-07-28T00:00:00\",\"2022-07-29T00:00:00\",\"2022-08-01T00:00:00\",\"2022-08-02T00:00:00\",\"2022-08-03T00:00:00\",\"2022-08-04T00:00:00\",\"2022-08-05T00:00:00\",\"2022-08-08T00:00:00\",\"2022-08-09T00:00:00\",\"2022-08-10T00:00:00\",\"2022-08-11T00:00:00\",\"2022-08-12T00:00:00\",\"2022-08-15T00:00:00\",\"2022-08-16T00:00:00\",\"2022-08-17T00:00:00\",\"2022-08-18T00:00:00\",\"2022-08-19T00:00:00\",\"2022-08-22T00:00:00\",\"2022-08-23T00:00:00\",\"2022-08-24T00:00:00\",\"2022-08-25T00:00:00\",\"2022-08-26T00:00:00\",\"2022-08-29T00:00:00\",\"2022-08-30T00:00:00\",\"2022-08-31T00:00:00\",\"2022-09-01T00:00:00\",\"2022-09-02T00:00:00\",\"2022-09-06T00:00:00\",\"2022-09-07T00:00:00\",\"2022-09-08T00:00:00\",\"2022-09-09T00:00:00\",\"2022-09-12T00:00:00\",\"2022-09-13T00:00:00\",\"2022-09-14T00:00:00\",\"2022-09-15T00:00:00\",\"2022-09-16T00:00:00\",\"2022-09-19T00:00:00\",\"2022-09-20T00:00:00\",\"2022-09-21T00:00:00\",\"2022-09-22T00:00:00\",\"2022-09-23T00:00:00\",\"2022-09-26T00:00:00\",\"2022-09-27T00:00:00\",\"2022-09-28T00:00:00\",\"2022-09-29T00:00:00\",\"2022-09-30T00:00:00\",\"2022-10-03T00:00:00\",\"2022-10-04T00:00:00\",\"2022-10-05T00:00:00\",\"2022-10-06T00:00:00\",\"2022-10-07T00:00:00\",\"2022-10-10T00:00:00\",\"2022-10-11T00:00:00\",\"2022-10-12T00:00:00\",\"2022-10-13T00:00:00\",\"2022-10-14T00:00:00\",\"2022-10-17T00:00:00\",\"2022-10-18T00:00:00\",\"2022-10-19T00:00:00\",\"2022-10-20T00:00:00\",\"2022-10-21T00:00:00\",\"2022-10-24T00:00:00\",\"2022-10-25T00:00:00\",\"2022-10-26T00:00:00\",\"2022-10-27T00:00:00\",\"2022-10-28T00:00:00\",\"2022-10-31T00:00:00\",\"2022-11-01T00:00:00\",\"2022-11-02T00:00:00\",\"2022-11-03T00:00:00\",\"2022-11-04T00:00:00\",\"2022-11-07T00:00:00\",\"2022-11-08T00:00:00\",\"2022-11-09T00:00:00\",\"2022-11-10T00:00:00\",\"2022-11-11T00:00:00\",\"2022-11-14T00:00:00\",\"2022-11-15T00:00:00\",\"2022-11-16T00:00:00\",\"2022-11-17T00:00:00\",\"2022-11-18T00:00:00\",\"2022-11-21T00:00:00\",\"2022-11-22T00:00:00\",\"2022-11-23T00:00:00\",\"2022-11-25T00:00:00\",\"2022-11-28T00:00:00\",\"2022-11-29T00:00:00\",\"2022-11-30T00:00:00\",\"2022-12-01T00:00:00\",\"2022-12-02T00:00:00\",\"2022-12-05T00:00:00\",\"2022-12-06T00:00:00\",\"2022-12-07T00:00:00\",\"2022-12-08T00:00:00\",\"2022-12-09T00:00:00\",\"2022-12-12T00:00:00\",\"2022-12-13T00:00:00\",\"2022-12-14T00:00:00\",\"2022-12-15T00:00:00\",\"2022-12-16T00:00:00\",\"2022-12-19T00:00:00\",\"2022-12-20T00:00:00\",\"2022-12-21T00:00:00\",\"2022-12-22T00:00:00\",\"2022-12-23T00:00:00\",\"2022-12-27T00:00:00\",\"2022-12-28T00:00:00\",\"2022-12-29T00:00:00\",\"2022-12-30T00:00:00\",\"2023-01-03T00:00:00\",\"2023-01-04T00:00:00\",\"2023-01-05T00:00:00\",\"2023-01-06T00:00:00\",\"2023-01-09T00:00:00\",\"2023-01-10T00:00:00\",\"2023-01-11T00:00:00\",\"2023-01-12T00:00:00\",\"2023-01-13T00:00:00\",\"2023-01-17T00:00:00\",\"2023-01-18T00:00:00\",\"2023-01-19T00:00:00\",\"2023-01-20T00:00:00\",\"2023-01-23T00:00:00\",\"2023-01-24T00:00:00\",\"2023-01-25T00:00:00\",\"2023-01-26T00:00:00\",\"2023-01-27T00:00:00\",\"2023-01-30T00:00:00\",\"2023-01-31T00:00:00\",\"2023-02-01T00:00:00\",\"2023-02-02T00:00:00\",\"2023-02-03T00:00:00\",\"2023-02-06T00:00:00\",\"2023-02-07T00:00:00\",\"2023-02-08T00:00:00\",\"2023-02-09T00:00:00\",\"2023-02-10T00:00:00\",\"2023-02-13T00:00:00\",\"2023-02-14T00:00:00\",\"2023-02-15T00:00:00\",\"2023-02-16T00:00:00\",\"2023-02-17T00:00:00\",\"2023-02-21T00:00:00\",\"2023-02-22T00:00:00\",\"2023-02-23T00:00:00\",\"2023-02-24T00:00:00\",\"2023-02-27T00:00:00\",\"2023-02-28T00:00:00\",\"2023-03-01T00:00:00\",\"2023-03-02T00:00:00\",\"2023-03-03T00:00:00\",\"2023-03-06T00:00:00\",\"2023-03-07T00:00:00\",\"2023-03-08T00:00:00\",\"2023-03-09T00:00:00\"],\"xaxis\":\"x\",\"y\":[19.959999,18.0,16.91,17.469999,19.299999,20.75,21.959999,21.809999,23.209999,23.15,23.48,22.08,22.530001,24.219999,23.08,22.700001,23.02,24.24,22.76,21.629999,21.290001,20.790001,20.68,20.370001,20.74,19.690001,18.9,19.809999,18.969999,18.24,17.85,18.690001,17.629999,17.049999,17.83,16.99,18.120001,17.23,18.450001,17.08,16.190001,14.7,14.93,13.85,14.56,17.780001,16.74,17.49,17.15,18.040001,18.219999,17.780001,16.940001,18.02,18.389999,19.73,18.92,18.549999,17.620001,19.84,19.190001,19.74,20.74,19.440001,17.889999,15.89,16.450001,17.200001,16.030001,16.860001,17.35,17.75,18.9,19.07,19.23,18.309999,17.799999,18.26,19.15,20.059999,19.809999,19.57,19.940001,18.42,19.299999,19.290001,18.690001,19.120001,19.32,19.629999,20.65,21.459999,18.5,18.5,17.48,18.309999,18.540001,18.41,18.709999,19.469999,20.66,20.860001,21.34,22.17,21.35,22.67,22.33,22.809999,22.33,22.41,21.92,21.73,19.799999,19.110001,19.25,19.66,19.889999,18.82,18.540001,18.41,18.0,14.52,14.51,14.29,14.67,14.58,15.02,15.41,14.71,14.95,14.78,14.03,14.03,13.44,13.35,13.14,13.15,12.77,12.93,12.96,12.34,12.5,12.87,13.6,13.49,13.34,12.54,12.19,12.0,11.93,12.17,11.71,12.3,12.54,12.2,12.46,12.56,12.32,12.76,12.86,12.84,13.14,13.11,12.92,12.3,12.24,12.09,12.43,12.64,11.92,13.65,14.96,13.97,14.29,13.55,13.36,12.77,12.26,12.34,12.69,12.61,12.38,12.25,13.01,13.26,13.32,12.56,11.99,11.98,12.9,12.2,13.2,13.21,13.04,12.43,12.62,12.14,11.9,11.79,11.04,10.9,10.4,10.26,10.9,11.19,11.07,11.34,10.81,10.95,11.23,11.38,11.9,12.05,12.65,13.33,13.18,13.1,13.54,14.54,14.52,14.65,15.08,17.77,16.299999,19.85,21.68,21.92,25.879999,27.549999,24.530001,26.190001,22.49,22.99,21.139999,23.309999,25.5,24.23,23.84,21.629999,22.360001,22.870001,22.41,22.190001,22.58,20.73,21.309999,28.48,27.360001,26.139999,24.82,22.700001],\"yaxis\":\"y\",\"type\":\"scatter\"}],                        {\"template\":{\"data\":{\"histogram2dcontour\":[{\"type\":\"histogram2dcontour\",\"colorbar\":{\"outlinewidth\":0,\"ticks\":\"\"},\"colorscale\":[[0.0,\"#0d0887\"],[0.1111111111111111,\"#46039f\"],[0.2222222222222222,\"#7201a8\"],[0.3333333333333333,\"#9c179e\"],[0.4444444444444444,\"#bd3786\"],[0.5555555555555556,\"#d8576b\"],[0.6666666666666666,\"#ed7953\"],[0.7777777777777778,\"#fb9f3a\"],[0.8888888888888888,\"#fdca26\"],[1.0,\"#f0f921\"]]}],\"choropleth\":[{\"type\":\"choropleth\",\"colorbar\":{\"outlinewidth\":0,\"ticks\":\"\"}}],\"histogram2d\":[{\"type\":\"histogram2d\",\"colorbar\":{\"outlinewidth\":0,\"ticks\":\"\"},\"colorscale\":[[0.0,\"#0d0887\"],[0.1111111111111111,\"#46039f\"],[0.2222222222222222,\"#7201a8\"],[0.3333333333333333,\"#9c179e\"],[0.4444444444444444,\"#bd3786\"],[0.5555555555555556,\"#d8576b\"],[0.6666666666666666,\"#ed7953\"],[0.7777777777777778,\"#fb9f3a\"],[0.8888888888888888,\"#fdca26\"],[1.0,\"#f0f921\"]]}],\"heatmap\":[{\"type\":\"heatmap\",\"colorbar\":{\"outlinewidth\":0,\"ticks\":\"\"},\"colorscale\":[[0.0,\"#0d0887\"],[0.1111111111111111,\"#46039f\"],[0.2222222222222222,\"#7201a8\"],[0.3333333333333333,\"#9c179e\"],[0.4444444444444444,\"#bd3786\"],[0.5555555555555556,\"#d8576b\"],[0.6666666666666666,\"#ed7953\"],[0.7777777777777778,\"#fb9f3a\"],[0.8888888888888888,\"#fdca26\"],[1.0,\"#f0f921\"]]}],\"heatmapgl\":[{\"type\":\"heatmapgl\",\"colorbar\":{\"outlinewidth\":0,\"ticks\":\"\"},\"colorscale\":[[0.0,\"#0d0887\"],[0.1111111111111111,\"#46039f\"],[0.2222222222222222,\"#7201a8\"],[0.3333333333333333,\"#9c179e\"],[0.4444444444444444,\"#bd3786\"],[0.5555555555555556,\"#d8576b\"],[0.6666666666666666,\"#ed7953\"],[0.7777777777777778,\"#fb9f3a\"],[0.8888888888888888,\"#fdca26\"],[1.0,\"#f0f921\"]]}],\"contourcarpet\":[{\"type\":\"contourcarpet\",\"colorbar\":{\"outlinewidth\":0,\"ticks\":\"\"}}],\"contour\":[{\"type\":\"contour\",\"colorbar\":{\"outlinewidth\":0,\"ticks\":\"\"},\"colorscale\":[[0.0,\"#0d0887\"],[0.1111111111111111,\"#46039f\"],[0.2222222222222222,\"#7201a8\"],[0.3333333333333333,\"#9c179e\"],[0.4444444444444444,\"#bd3786\"],[0.5555555555555556,\"#d8576b\"],[0.6666666666666666,\"#ed7953\"],[0.7777777777777778,\"#fb9f3a\"],[0.8888888888888888,\"#fdca26\"],[1.0,\"#f0f921\"]]}],\"surface\":[{\"type\":\"surface\",\"colorbar\":{\"outlinewidth\":0,\"ticks\":\"\"},\"colorscale\":[[0.0,\"#0d0887\"],[0.1111111111111111,\"#46039f\"],[0.2222222222222222,\"#7201a8\"],[0.3333333333333333,\"#9c179e\"],[0.4444444444444444,\"#bd3786\"],[0.5555555555555556,\"#d8576b\"],[0.6666666666666666,\"#ed7953\"],[0.7777777777777778,\"#fb9f3a\"],[0.8888888888888888,\"#fdca26\"],[1.0,\"#f0f921\"]]}],\"mesh3d\":[{\"type\":\"mesh3d\",\"colorbar\":{\"outlinewidth\":0,\"ticks\":\"\"}}],\"scatter\":[{\"fillpattern\":{\"fillmode\":\"overlay\",\"size\":10,\"solidity\":0.2},\"type\":\"scatter\"}],\"parcoords\":[{\"type\":\"parcoords\",\"line\":{\"colorbar\":{\"outlinewidth\":0,\"ticks\":\"\"}}}],\"scatterpolargl\":[{\"type\":\"scatterpolargl\",\"marker\":{\"colorbar\":{\"outlinewidth\":0,\"ticks\":\"\"}}}],\"bar\":[{\"error_x\":{\"color\":\"#2a3f5f\"},\"error_y\":{\"color\":\"#2a3f5f\"},\"marker\":{\"line\":{\"color\":\"#E5ECF6\",\"width\":0.5},\"pattern\":{\"fillmode\":\"overlay\",\"size\":10,\"solidity\":0.2}},\"type\":\"bar\"}],\"scattergeo\":[{\"type\":\"scattergeo\",\"marker\":{\"colorbar\":{\"outlinewidth\":0,\"ticks\":\"\"}}}],\"scatterpolar\":[{\"type\":\"scatterpolar\",\"marker\":{\"colorbar\":{\"outlinewidth\":0,\"ticks\":\"\"}}}],\"histogram\":[{\"marker\":{\"pattern\":{\"fillmode\":\"overlay\",\"size\":10,\"solidity\":0.2}},\"type\":\"histogram\"}],\"scattergl\":[{\"type\":\"scattergl\",\"marker\":{\"colorbar\":{\"outlinewidth\":0,\"ticks\":\"\"}}}],\"scatter3d\":[{\"type\":\"scatter3d\",\"line\":{\"colorbar\":{\"outlinewidth\":0,\"ticks\":\"\"}},\"marker\":{\"colorbar\":{\"outlinewidth\":0,\"ticks\":\"\"}}}],\"scattermapbox\":[{\"type\":\"scattermapbox\",\"marker\":{\"colorbar\":{\"outlinewidth\":0,\"ticks\":\"\"}}}],\"scatterternary\":[{\"type\":\"scatterternary\",\"marker\":{\"colorbar\":{\"outlinewidth\":0,\"ticks\":\"\"}}}],\"scattercarpet\":[{\"type\":\"scattercarpet\",\"marker\":{\"colorbar\":{\"outlinewidth\":0,\"ticks\":\"\"}}}],\"carpet\":[{\"aaxis\":{\"endlinecolor\":\"#2a3f5f\",\"gridcolor\":\"white\",\"linecolor\":\"white\",\"minorgridcolor\":\"white\",\"startlinecolor\":\"#2a3f5f\"},\"baxis\":{\"endlinecolor\":\"#2a3f5f\",\"gridcolor\":\"white\",\"linecolor\":\"white\",\"minorgridcolor\":\"white\",\"startlinecolor\":\"#2a3f5f\"},\"type\":\"carpet\"}],\"table\":[{\"cells\":{\"fill\":{\"color\":\"#EBF0F8\"},\"line\":{\"color\":\"white\"}},\"header\":{\"fill\":{\"color\":\"#C8D4E3\"},\"line\":{\"color\":\"white\"}},\"type\":\"table\"}],\"barpolar\":[{\"marker\":{\"line\":{\"color\":\"#E5ECF6\",\"width\":0.5},\"pattern\":{\"fillmode\":\"overlay\",\"size\":10,\"solidity\":0.2}},\"type\":\"barpolar\"}],\"pie\":[{\"automargin\":true,\"type\":\"pie\"}]},\"layout\":{\"autotypenumbers\":\"strict\",\"colorway\":[\"#636efa\",\"#EF553B\",\"#00cc96\",\"#ab63fa\",\"#FFA15A\",\"#19d3f3\",\"#FF6692\",\"#B6E880\",\"#FF97FF\",\"#FECB52\"],\"font\":{\"color\":\"#2a3f5f\"},\"hovermode\":\"closest\",\"hoverlabel\":{\"align\":\"left\"},\"paper_bgcolor\":\"white\",\"plot_bgcolor\":\"#E5ECF6\",\"polar\":{\"bgcolor\":\"#E5ECF6\",\"angularaxis\":{\"gridcolor\":\"white\",\"linecolor\":\"white\",\"ticks\":\"\"},\"radialaxis\":{\"gridcolor\":\"white\",\"linecolor\":\"white\",\"ticks\":\"\"}},\"ternary\":{\"bgcolor\":\"#E5ECF6\",\"aaxis\":{\"gridcolor\":\"white\",\"linecolor\":\"white\",\"ticks\":\"\"},\"baxis\":{\"gridcolor\":\"white\",\"linecolor\":\"white\",\"ticks\":\"\"},\"caxis\":{\"gridcolor\":\"white\",\"linecolor\":\"white\",\"ticks\":\"\"}},\"coloraxis\":{\"colorbar\":{\"outlinewidth\":0,\"ticks\":\"\"}},\"colorscale\":{\"sequential\":[[0.0,\"#0d0887\"],[0.1111111111111111,\"#46039f\"],[0.2222222222222222,\"#7201a8\"],[0.3333333333333333,\"#9c179e\"],[0.4444444444444444,\"#bd3786\"],[0.5555555555555556,\"#d8576b\"],[0.6666666666666666,\"#ed7953\"],[0.7777777777777778,\"#fb9f3a\"],[0.8888888888888888,\"#fdca26\"],[1.0,\"#f0f921\"]],\"sequentialminus\":[[0.0,\"#0d0887\"],[0.1111111111111111,\"#46039f\"],[0.2222222222222222,\"#7201a8\"],[0.3333333333333333,\"#9c179e\"],[0.4444444444444444,\"#bd3786\"],[0.5555555555555556,\"#d8576b\"],[0.6666666666666666,\"#ed7953\"],[0.7777777777777778,\"#fb9f3a\"],[0.8888888888888888,\"#fdca26\"],[1.0,\"#f0f921\"]],\"diverging\":[[0,\"#8e0152\"],[0.1,\"#c51b7d\"],[0.2,\"#de77ae\"],[0.3,\"#f1b6da\"],[0.4,\"#fde0ef\"],[0.5,\"#f7f7f7\"],[0.6,\"#e6f5d0\"],[0.7,\"#b8e186\"],[0.8,\"#7fbc41\"],[0.9,\"#4d9221\"],[1,\"#276419\"]]},\"xaxis\":{\"gridcolor\":\"white\",\"linecolor\":\"white\",\"ticks\":\"\",\"title\":{\"standoff\":15},\"zerolinecolor\":\"white\",\"automargin\":true,\"zerolinewidth\":2},\"yaxis\":{\"gridcolor\":\"white\",\"linecolor\":\"white\",\"ticks\":\"\",\"title\":{\"standoff\":15},\"zerolinecolor\":\"white\",\"automargin\":true,\"zerolinewidth\":2},\"scene\":{\"xaxis\":{\"backgroundcolor\":\"#E5ECF6\",\"gridcolor\":\"white\",\"linecolor\":\"white\",\"showbackground\":true,\"ticks\":\"\",\"zerolinecolor\":\"white\",\"gridwidth\":2},\"yaxis\":{\"backgroundcolor\":\"#E5ECF6\",\"gridcolor\":\"white\",\"linecolor\":\"white\",\"showbackground\":true,\"ticks\":\"\",\"zerolinecolor\":\"white\",\"gridwidth\":2},\"zaxis\":{\"backgroundcolor\":\"#E5ECF6\",\"gridcolor\":\"white\",\"linecolor\":\"white\",\"showbackground\":true,\"ticks\":\"\",\"zerolinecolor\":\"white\",\"gridwidth\":2}},\"shapedefaults\":{\"line\":{\"color\":\"#2a3f5f\"}},\"annotationdefaults\":{\"arrowcolor\":\"#2a3f5f\",\"arrowhead\":0,\"arrowwidth\":1},\"geo\":{\"bgcolor\":\"white\",\"landcolor\":\"#E5ECF6\",\"subunitcolor\":\"white\",\"showland\":true,\"showlakes\":true,\"lakecolor\":\"white\"},\"title\":{\"x\":0.05},\"mapbox\":{\"style\":\"light\"}}},\"xaxis\":{\"anchor\":\"y\",\"domain\":[0.0,1.0],\"title\":{\"text\":\"Date\"}},\"yaxis\":{\"anchor\":\"x\",\"domain\":[0.0,1.0],\"title\":{\"text\":\"Close\"}},\"legend\":{\"tracegroupgap\":0},\"title\":{\"text\":\"Stock Price Over The Months\"}},                        {\"responsive\": true}                    ).then(function(){\n",
       "                            \n",
       "var gd = document.getElementById('35ceb4b9-5bd3-4b7a-9aac-bed5945ba956');\n",
       "var x = new MutationObserver(function (mutations, observer) {{\n",
       "        var display = window.getComputedStyle(gd).display;\n",
       "        if (!display || display === 'none') {{\n",
       "            console.log([gd, 'removed!']);\n",
       "            Plotly.purge(gd);\n",
       "            observer.disconnect();\n",
       "        }}\n",
       "}});\n",
       "\n",
       "// Listen for the removal of the full notebook cells\n",
       "var notebookContainer = gd.closest('#notebook-container');\n",
       "if (notebookContainer) {{\n",
       "    x.observe(notebookContainer, {childList: true});\n",
       "}}\n",
       "\n",
       "// Listen for the clearing of the current output cell\n",
       "var outputEl = gd.closest('.output');\n",
       "if (outputEl) {{\n",
       "    x.observe(outputEl, {childList: true});\n",
       "}}\n",
       "\n",
       "                        })                };                });            </script>        </div>"
      ]
     },
     "metadata": {},
     "output_type": "display_data"
    }
   ],
   "source": [
    "# Plotting price of stock over the months\n",
    "px.line(df, x=df.index, y='Close', title='Stock Price Over The Months', labels={'x':'Date', 'y':'Price'})"
   ]
  },
  {
   "cell_type": "markdown",
   "id": "8b1fbc28",
   "metadata": {
    "execution": {
     "iopub.execute_input": "2023-03-10T18:38:20.712841Z",
     "iopub.status.busy": "2023-03-10T18:38:20.712384Z",
     "iopub.status.idle": "2023-03-10T18:38:20.721038Z",
     "shell.execute_reply": "2023-03-10T18:38:20.719127Z",
     "shell.execute_reply.started": "2023-03-10T18:38:20.712799Z"
    },
    "papermill": {
     "duration": 0.007902,
     "end_time": "2023-03-12T10:24:42.139862",
     "exception": false,
     "start_time": "2023-03-12T10:24:42.131960",
     "status": "completed"
    },
    "tags": []
   },
   "source": [
    "From plot we can se that in last months the price was going high pretty fast"
   ]
  },
  {
   "cell_type": "markdown",
   "id": "5fdf07da",
   "metadata": {
    "papermill": {
     "duration": 0.008265,
     "end_time": "2023-03-12T10:24:42.156899",
     "exception": false,
     "start_time": "2023-03-12T10:24:42.148634",
     "status": "completed"
    },
    "tags": []
   },
   "source": [
    "# <div style=\"color:white;display:fill;border-radius:20px;background-color:#f4ebdc;font-size:70%;font-family:Charter;letter-spacing:1px\"><h3 style='padding: 20px;color:#8b4726;text-align:center;'>Preprocessing</h3></div>"
   ]
  },
  {
   "cell_type": "markdown",
   "id": "8b366834",
   "metadata": {
    "papermill": {
     "duration": 0.008746,
     "end_time": "2023-03-12T10:24:42.174015",
     "exception": false,
     "start_time": "2023-03-12T10:24:42.165269",
     "status": "completed"
    },
    "tags": []
   },
   "source": [
    "### Feature Extraction\n",
    "\n",
    "As preprocessing operation we age going to use feature extraction to create new lag features using shift method from pandas. <br>\n",
    "Feature extraction is a process of creating new features as it allows us to engineer new features that may better capture patterns and relationships in the data."
   ]
  },
  {
   "cell_type": "code",
   "execution_count": 8,
   "id": "993f2dd5",
   "metadata": {
    "execution": {
     "iopub.execute_input": "2023-03-12T10:24:42.193003Z",
     "iopub.status.busy": "2023-03-12T10:24:42.192394Z",
     "iopub.status.idle": "2023-03-12T10:24:42.212624Z",
     "shell.execute_reply": "2023-03-12T10:24:42.211571Z"
    },
    "papermill": {
     "duration": 0.032492,
     "end_time": "2023-03-12T10:24:42.214850",
     "exception": false,
     "start_time": "2023-03-12T10:24:42.182358",
     "status": "completed"
    },
    "tags": []
   },
   "outputs": [
    {
     "data": {
      "text/html": [
       "<div>\n",
       "<style scoped>\n",
       "    .dataframe tbody tr th:only-of-type {\n",
       "        vertical-align: middle;\n",
       "    }\n",
       "\n",
       "    .dataframe tbody tr th {\n",
       "        vertical-align: top;\n",
       "    }\n",
       "\n",
       "    .dataframe thead th {\n",
       "        text-align: right;\n",
       "    }\n",
       "</style>\n",
       "<table border=\"1\" class=\"dataframe\">\n",
       "  <thead>\n",
       "    <tr style=\"text-align: right;\">\n",
       "      <th></th>\n",
       "      <th>Close</th>\n",
       "      <th>lag1</th>\n",
       "      <th>lag2</th>\n",
       "      <th>lag3</th>\n",
       "    </tr>\n",
       "    <tr>\n",
       "      <th>Date</th>\n",
       "      <th></th>\n",
       "      <th></th>\n",
       "      <th></th>\n",
       "      <th></th>\n",
       "    </tr>\n",
       "  </thead>\n",
       "  <tbody>\n",
       "    <tr>\n",
       "      <th>2022-03-10</th>\n",
       "      <td>19.959999</td>\n",
       "      <td>NaN</td>\n",
       "      <td>NaN</td>\n",
       "      <td>NaN</td>\n",
       "    </tr>\n",
       "    <tr>\n",
       "      <th>2022-03-11</th>\n",
       "      <td>18.000000</td>\n",
       "      <td>19.959999</td>\n",
       "      <td>NaN</td>\n",
       "      <td>NaN</td>\n",
       "    </tr>\n",
       "    <tr>\n",
       "      <th>2022-03-14</th>\n",
       "      <td>16.910000</td>\n",
       "      <td>18.000000</td>\n",
       "      <td>19.959999</td>\n",
       "      <td>NaN</td>\n",
       "    </tr>\n",
       "    <tr>\n",
       "      <th>2022-03-15</th>\n",
       "      <td>17.469999</td>\n",
       "      <td>16.910000</td>\n",
       "      <td>18.000000</td>\n",
       "      <td>19.959999</td>\n",
       "    </tr>\n",
       "    <tr>\n",
       "      <th>2022-03-16</th>\n",
       "      <td>19.299999</td>\n",
       "      <td>17.469999</td>\n",
       "      <td>16.910000</td>\n",
       "      <td>18.000000</td>\n",
       "    </tr>\n",
       "  </tbody>\n",
       "</table>\n",
       "</div>"
      ],
      "text/plain": [
       "                Close       lag1       lag2       lag3\n",
       "Date                                                  \n",
       "2022-03-10  19.959999        NaN        NaN        NaN\n",
       "2022-03-11  18.000000  19.959999        NaN        NaN\n",
       "2022-03-14  16.910000  18.000000  19.959999        NaN\n",
       "2022-03-15  17.469999  16.910000  18.000000  19.959999\n",
       "2022-03-16  19.299999  17.469999  16.910000  18.000000"
      ]
     },
     "execution_count": 8,
     "metadata": {},
     "output_type": "execute_result"
    }
   ],
   "source": [
    "# Creating Lag features\n",
    "df['lag1'] = df['Close'].shift(1)\n",
    "df['lag2'] = df['Close'].shift(2)\n",
    "df['lag3'] = df['Close'].shift(3)\n",
    "\n",
    "# Displaying our data\n",
    "df.head()"
   ]
  },
  {
   "cell_type": "markdown",
   "id": "924373a8",
   "metadata": {
    "papermill": {
     "duration": 0.008603,
     "end_time": "2023-03-12T10:24:42.232229",
     "exception": false,
     "start_time": "2023-03-12T10:24:42.223626",
     "status": "completed"
    },
    "tags": []
   },
   "source": [
    "As we can see, the feature creation process was successful in generating new lag features.<br>\n",
    "However, some rows now contain NaN values due to a lack of past data.<br>\n",
    "To ensure the dataset is ready for analysis, we will need to drop these rows."
   ]
  },
  {
   "cell_type": "code",
   "execution_count": 9,
   "id": "8743dbd7",
   "metadata": {
    "execution": {
     "iopub.execute_input": "2023-03-12T10:24:42.251453Z",
     "iopub.status.busy": "2023-03-12T10:24:42.250749Z",
     "iopub.status.idle": "2023-03-12T10:24:42.257576Z",
     "shell.execute_reply": "2023-03-12T10:24:42.256484Z"
    },
    "papermill": {
     "duration": 0.018984,
     "end_time": "2023-03-12T10:24:42.259655",
     "exception": false,
     "start_time": "2023-03-12T10:24:42.240671",
     "status": "completed"
    },
    "tags": []
   },
   "outputs": [],
   "source": [
    "# Dropping features that\n",
    "df = df.dropna()"
   ]
  },
  {
   "cell_type": "markdown",
   "id": "62a2ed41",
   "metadata": {
    "papermill": {
     "duration": 0.008853,
     "end_time": "2023-03-12T10:24:42.277602",
     "exception": false,
     "start_time": "2023-03-12T10:24:42.268749",
     "status": "completed"
    },
    "tags": []
   },
   "source": [
    "Now the data doesn't contain inconsistencies."
   ]
  },
  {
   "cell_type": "markdown",
   "id": "d93f4002",
   "metadata": {
    "papermill": {
     "duration": 0.008851,
     "end_time": "2023-03-12T10:24:42.295473",
     "exception": false,
     "start_time": "2023-03-12T10:24:42.286622",
     "status": "completed"
    },
    "tags": []
   },
   "source": [
    "### Splitting Data\n",
    "\n",
    "Splitting data into X and y and later into train, val and test sets."
   ]
  },
  {
   "cell_type": "code",
   "execution_count": 10,
   "id": "20ecfd79",
   "metadata": {
    "execution": {
     "iopub.execute_input": "2023-03-12T10:24:42.315670Z",
     "iopub.status.busy": "2023-03-12T10:24:42.315299Z",
     "iopub.status.idle": "2023-03-12T10:24:42.328723Z",
     "shell.execute_reply": "2023-03-12T10:24:42.327640Z"
    },
    "papermill": {
     "duration": 0.026226,
     "end_time": "2023-03-12T10:24:42.331013",
     "exception": false,
     "start_time": "2023-03-12T10:24:42.304787",
     "status": "completed"
    },
    "tags": []
   },
   "outputs": [
    {
     "data": {
      "text/html": [
       "<div>\n",
       "<style scoped>\n",
       "    .dataframe tbody tr th:only-of-type {\n",
       "        vertical-align: middle;\n",
       "    }\n",
       "\n",
       "    .dataframe tbody tr th {\n",
       "        vertical-align: top;\n",
       "    }\n",
       "\n",
       "    .dataframe thead th {\n",
       "        text-align: right;\n",
       "    }\n",
       "</style>\n",
       "<table border=\"1\" class=\"dataframe\">\n",
       "  <thead>\n",
       "    <tr style=\"text-align: right;\">\n",
       "      <th></th>\n",
       "      <th>lag1</th>\n",
       "      <th>lag2</th>\n",
       "      <th>lag3</th>\n",
       "    </tr>\n",
       "    <tr>\n",
       "      <th>Date</th>\n",
       "      <th></th>\n",
       "      <th></th>\n",
       "      <th></th>\n",
       "    </tr>\n",
       "  </thead>\n",
       "  <tbody>\n",
       "    <tr>\n",
       "      <th>2022-03-15</th>\n",
       "      <td>16.910000</td>\n",
       "      <td>18.000000</td>\n",
       "      <td>19.959999</td>\n",
       "    </tr>\n",
       "    <tr>\n",
       "      <th>2022-03-16</th>\n",
       "      <td>17.469999</td>\n",
       "      <td>16.910000</td>\n",
       "      <td>18.000000</td>\n",
       "    </tr>\n",
       "    <tr>\n",
       "      <th>2022-03-17</th>\n",
       "      <td>19.299999</td>\n",
       "      <td>17.469999</td>\n",
       "      <td>16.910000</td>\n",
       "    </tr>\n",
       "    <tr>\n",
       "      <th>2022-03-18</th>\n",
       "      <td>20.750000</td>\n",
       "      <td>19.299999</td>\n",
       "      <td>17.469999</td>\n",
       "    </tr>\n",
       "    <tr>\n",
       "      <th>2022-03-21</th>\n",
       "      <td>21.959999</td>\n",
       "      <td>20.750000</td>\n",
       "      <td>19.299999</td>\n",
       "    </tr>\n",
       "  </tbody>\n",
       "</table>\n",
       "</div>"
      ],
      "text/plain": [
       "                 lag1       lag2       lag3\n",
       "Date                                       \n",
       "2022-03-15  16.910000  18.000000  19.959999\n",
       "2022-03-16  17.469999  16.910000  18.000000\n",
       "2022-03-17  19.299999  17.469999  16.910000\n",
       "2022-03-18  20.750000  19.299999  17.469999\n",
       "2022-03-21  21.959999  20.750000  19.299999"
      ]
     },
     "execution_count": 10,
     "metadata": {},
     "output_type": "execute_result"
    }
   ],
   "source": [
    "# Chosing target feature\n",
    "target = \"Close\"\n",
    "\n",
    "# Splitting data into X and y\n",
    "X = df.drop(columns=[target])\n",
    "y = df[target]\n",
    "dates = df.index\n",
    "\n",
    "# Printing X\n",
    "X.head()"
   ]
  },
  {
   "cell_type": "markdown",
   "id": "260fefdf",
   "metadata": {
    "papermill": {
     "duration": 0.008854,
     "end_time": "2023-03-12T10:24:42.348900",
     "exception": false,
     "start_time": "2023-03-12T10:24:42.340046",
     "status": "completed"
    },
    "tags": []
   },
   "source": [
    "Data has been split into X and y."
   ]
  },
  {
   "cell_type": "code",
   "execution_count": 11,
   "id": "ced6bf50",
   "metadata": {
    "execution": {
     "iopub.execute_input": "2023-03-12T10:24:42.368696Z",
     "iopub.status.busy": "2023-03-12T10:24:42.367799Z",
     "iopub.status.idle": "2023-03-12T10:24:42.374990Z",
     "shell.execute_reply": "2023-03-12T10:24:42.373695Z"
    },
    "papermill": {
     "duration": 0.019443,
     "end_time": "2023-03-12T10:24:42.377196",
     "exception": false,
     "start_time": "2023-03-12T10:24:42.357753",
     "status": "completed"
    },
    "tags": []
   },
   "outputs": [
    {
     "name": "stdout",
     "output_type": "stream",
     "text": [
      "dates shape = (248,),\n",
      "X shape = (248, 3, 1),\n",
      "y shape = (248,)\n"
     ]
    }
   ],
   "source": [
    "# Converting data to numerical format\n",
    "X = X.to_numpy().astype(np.float32).reshape(X.shape[0], -1, 1)\n",
    "y = y.to_numpy().astype(np.float32)\n",
    "dates = dates.to_numpy()\n",
    "\n",
    "print(f\"dates shape = {dates.shape},\\nX shape = {X.shape},\\ny shape = {y.shape}\")"
   ]
  },
  {
   "cell_type": "markdown",
   "id": "02ed4952",
   "metadata": {
    "papermill": {
     "duration": 0.008806,
     "end_time": "2023-03-12T10:24:42.395137",
     "exception": false,
     "start_time": "2023-03-12T10:24:42.386331",
     "status": "completed"
    },
    "tags": []
   },
   "source": [
    "Data has correct format.\\\n",
    "Now we are going to split it into train, validation and test sets."
   ]
  },
  {
   "cell_type": "code",
   "execution_count": 12,
   "id": "5c421d64",
   "metadata": {
    "execution": {
     "iopub.execute_input": "2023-03-12T10:24:42.414866Z",
     "iopub.status.busy": "2023-03-12T10:24:42.414047Z",
     "iopub.status.idle": "2023-03-12T10:24:42.420367Z",
     "shell.execute_reply": "2023-03-12T10:24:42.419112Z"
    },
    "papermill": {
     "duration": 0.018235,
     "end_time": "2023-03-12T10:24:42.422369",
     "exception": false,
     "start_time": "2023-03-12T10:24:42.404134",
     "status": "completed"
    },
    "tags": []
   },
   "outputs": [],
   "source": [
    "# Train/Val/Test split\n",
    "q_80 = int(len(dates) * .70)\n",
    "q_90 = int(len(dates) * .90)\n",
    "\n",
    "dates_train, X_train, y_train = dates[:q_80], X[:q_80], y[:q_80]\n",
    "dates_val, X_val, y_val = dates[q_80:q_90], X[q_80:q_90], y[q_80:q_90]\n",
    "dates_test, X_test, y_test = dates[q_90:], X[q_90:], y[q_90:]"
   ]
  },
  {
   "cell_type": "markdown",
   "id": "012ef471",
   "metadata": {
    "papermill": {
     "duration": 0.008315,
     "end_time": "2023-03-12T10:24:42.439734",
     "exception": false,
     "start_time": "2023-03-12T10:24:42.431419",
     "status": "completed"
    },
    "tags": []
   },
   "source": [
    "### Plotting Sets"
   ]
  },
  {
   "cell_type": "code",
   "execution_count": 13,
   "id": "aa5e9dde",
   "metadata": {
    "execution": {
     "iopub.execute_input": "2023-03-12T10:24:42.458971Z",
     "iopub.status.busy": "2023-03-12T10:24:42.458680Z",
     "iopub.status.idle": "2023-03-12T10:24:42.470495Z",
     "shell.execute_reply": "2023-03-12T10:24:42.469515Z"
    },
    "papermill": {
     "duration": 0.023992,
     "end_time": "2023-03-12T10:24:42.472574",
     "exception": false,
     "start_time": "2023-03-12T10:24:42.448582",
     "status": "completed"
    },
    "tags": []
   },
   "outputs": [
    {
     "data": {
      "text/html": [
       "<div>                            <div id=\"0df8a100-61d5-4d4c-9015-b8a67f8c089b\" class=\"plotly-graph-div\" style=\"height:525px; width:100%;\"></div>            <script type=\"text/javascript\">                require([\"plotly\"], function(Plotly) {                    window.PLOTLYENV=window.PLOTLYENV || {};                                    if (document.getElementById(\"0df8a100-61d5-4d4c-9015-b8a67f8c089b\")) {                    Plotly.newPlot(                        \"0df8a100-61d5-4d4c-9015-b8a67f8c089b\",                        [{\"name\":\"Train\",\"x\":[\"2022-03-15T00:00:00\",\"2022-03-16T00:00:00\",\"2022-03-17T00:00:00\",\"2022-03-18T00:00:00\",\"2022-03-21T00:00:00\",\"2022-03-22T00:00:00\",\"2022-03-23T00:00:00\",\"2022-03-24T00:00:00\",\"2022-03-25T00:00:00\",\"2022-03-28T00:00:00\",\"2022-03-29T00:00:00\",\"2022-03-30T00:00:00\",\"2022-03-31T00:00:00\",\"2022-04-01T00:00:00\",\"2022-04-04T00:00:00\",\"2022-04-05T00:00:00\",\"2022-04-06T00:00:00\",\"2022-04-07T00:00:00\",\"2022-04-08T00:00:00\",\"2022-04-11T00:00:00\",\"2022-04-12T00:00:00\",\"2022-04-13T00:00:00\",\"2022-04-14T00:00:00\",\"2022-04-18T00:00:00\",\"2022-04-19T00:00:00\",\"2022-04-20T00:00:00\",\"2022-04-21T00:00:00\",\"2022-04-22T00:00:00\",\"2022-04-25T00:00:00\",\"2022-04-26T00:00:00\",\"2022-04-27T00:00:00\",\"2022-04-28T00:00:00\",\"2022-04-29T00:00:00\",\"2022-05-02T00:00:00\",\"2022-05-03T00:00:00\",\"2022-05-04T00:00:00\",\"2022-05-05T00:00:00\",\"2022-05-06T00:00:00\",\"2022-05-09T00:00:00\",\"2022-05-10T00:00:00\",\"2022-05-11T00:00:00\",\"2022-05-12T00:00:00\",\"2022-05-13T00:00:00\",\"2022-05-16T00:00:00\",\"2022-05-17T00:00:00\",\"2022-05-18T00:00:00\",\"2022-05-19T00:00:00\",\"2022-05-20T00:00:00\",\"2022-05-23T00:00:00\",\"2022-05-24T00:00:00\",\"2022-05-25T00:00:00\",\"2022-05-26T00:00:00\",\"2022-05-27T00:00:00\",\"2022-05-31T00:00:00\",\"2022-06-01T00:00:00\",\"2022-06-02T00:00:00\",\"2022-06-03T00:00:00\",\"2022-06-06T00:00:00\",\"2022-06-07T00:00:00\",\"2022-06-08T00:00:00\",\"2022-06-09T00:00:00\",\"2022-06-10T00:00:00\",\"2022-06-13T00:00:00\",\"2022-06-14T00:00:00\",\"2022-06-15T00:00:00\",\"2022-06-16T00:00:00\",\"2022-06-17T00:00:00\",\"2022-06-21T00:00:00\",\"2022-06-22T00:00:00\",\"2022-06-23T00:00:00\",\"2022-06-24T00:00:00\",\"2022-06-27T00:00:00\",\"2022-06-28T00:00:00\",\"2022-06-29T00:00:00\",\"2022-06-30T00:00:00\",\"2022-07-01T00:00:00\",\"2022-07-05T00:00:00\",\"2022-07-06T00:00:00\",\"2022-07-07T00:00:00\",\"2022-07-08T00:00:00\",\"2022-07-11T00:00:00\",\"2022-07-12T00:00:00\",\"2022-07-13T00:00:00\",\"2022-07-14T00:00:00\",\"2022-07-15T00:00:00\",\"2022-07-18T00:00:00\",\"2022-07-19T00:00:00\",\"2022-07-20T00:00:00\",\"2022-07-21T00:00:00\",\"2022-07-22T00:00:00\",\"2022-07-25T00:00:00\",\"2022-07-26T00:00:00\",\"2022-07-27T00:00:00\",\"2022-07-28T00:00:00\",\"2022-07-29T00:00:00\",\"2022-08-01T00:00:00\",\"2022-08-02T00:00:00\",\"2022-08-03T00:00:00\",\"2022-08-04T00:00:00\",\"2022-08-05T00:00:00\",\"2022-08-08T00:00:00\",\"2022-08-09T00:00:00\",\"2022-08-10T00:00:00\",\"2022-08-11T00:00:00\",\"2022-08-12T00:00:00\",\"2022-08-15T00:00:00\",\"2022-08-16T00:00:00\",\"2022-08-17T00:00:00\",\"2022-08-18T00:00:00\",\"2022-08-19T00:00:00\",\"2022-08-22T00:00:00\",\"2022-08-23T00:00:00\",\"2022-08-24T00:00:00\",\"2022-08-25T00:00:00\",\"2022-08-26T00:00:00\",\"2022-08-29T00:00:00\",\"2022-08-30T00:00:00\",\"2022-08-31T00:00:00\",\"2022-09-01T00:00:00\",\"2022-09-02T00:00:00\",\"2022-09-06T00:00:00\",\"2022-09-07T00:00:00\",\"2022-09-08T00:00:00\",\"2022-09-09T00:00:00\",\"2022-09-12T00:00:00\",\"2022-09-13T00:00:00\",\"2022-09-14T00:00:00\",\"2022-09-15T00:00:00\",\"2022-09-16T00:00:00\",\"2022-09-19T00:00:00\",\"2022-09-20T00:00:00\",\"2022-09-21T00:00:00\",\"2022-09-22T00:00:00\",\"2022-09-23T00:00:00\",\"2022-09-26T00:00:00\",\"2022-09-27T00:00:00\",\"2022-09-28T00:00:00\",\"2022-09-29T00:00:00\",\"2022-09-30T00:00:00\",\"2022-10-03T00:00:00\",\"2022-10-04T00:00:00\",\"2022-10-05T00:00:00\",\"2022-10-06T00:00:00\",\"2022-10-07T00:00:00\",\"2022-10-10T00:00:00\",\"2022-10-11T00:00:00\",\"2022-10-12T00:00:00\",\"2022-10-13T00:00:00\",\"2022-10-14T00:00:00\",\"2022-10-17T00:00:00\",\"2022-10-18T00:00:00\",\"2022-10-19T00:00:00\",\"2022-10-20T00:00:00\",\"2022-10-21T00:00:00\",\"2022-10-24T00:00:00\",\"2022-10-25T00:00:00\",\"2022-10-26T00:00:00\",\"2022-10-27T00:00:00\",\"2022-10-28T00:00:00\",\"2022-10-31T00:00:00\",\"2022-11-01T00:00:00\",\"2022-11-02T00:00:00\",\"2022-11-03T00:00:00\",\"2022-11-04T00:00:00\",\"2022-11-07T00:00:00\",\"2022-11-08T00:00:00\",\"2022-11-09T00:00:00\",\"2022-11-10T00:00:00\",\"2022-11-11T00:00:00\",\"2022-11-14T00:00:00\",\"2022-11-15T00:00:00\",\"2022-11-16T00:00:00\",\"2022-11-17T00:00:00\"],\"y\":[17.47,19.3,20.75,21.96,21.81,23.21,23.15,23.48,22.08,22.53,24.22,23.08,22.7,23.02,24.24,22.76,21.63,21.29,20.79,20.68,20.37,20.74,19.69,18.9,19.81,18.97,18.24,17.85,18.69,17.63,17.05,17.83,16.99,18.12,17.23,18.45,17.08,16.19,14.7,14.93,13.85,14.56,17.78,16.74,17.49,17.15,18.04,18.22,17.78,16.94,18.02,18.39,19.73,18.92,18.55,17.62,19.84,19.19,19.74,20.74,19.44,17.89,15.89,16.45,17.2,16.03,16.86,17.35,17.75,18.9,19.07,19.23,18.31,17.8,18.26,19.15,20.06,19.81,19.57,19.94,18.42,19.3,19.29,18.69,19.12,19.32,19.63,20.65,21.46,18.5,18.5,17.48,18.31,18.54,18.41,18.71,19.47,20.66,20.86,21.34,22.17,21.35,22.67,22.33,22.81,22.33,22.41,21.92,21.73,19.8,19.11,19.25,19.66,19.89,18.82,18.54,18.41,18.0,14.52,14.51,14.29,14.67,14.58,15.02,15.41,14.71,14.95,14.78,14.03,14.03,13.44,13.35,13.14,13.15,12.77,12.93,12.96,12.34,12.5,12.87,13.6,13.49,13.34,12.54,12.19,12.0,11.93,12.17,11.71,12.3,12.54,12.2,12.46,12.56,12.32,12.76,12.86,12.84,13.14,13.11,12.92,12.3,12.24,12.09,12.43,12.64,11.92,13.65,14.96,13.97,14.29,13.55,13.36],\"type\":\"scatter\"},{\"name\":\"Validation\",\"x\":[\"2022-11-18T00:00:00\",\"2022-11-21T00:00:00\",\"2022-11-22T00:00:00\",\"2022-11-23T00:00:00\",\"2022-11-25T00:00:00\",\"2022-11-28T00:00:00\",\"2022-11-29T00:00:00\",\"2022-11-30T00:00:00\",\"2022-12-01T00:00:00\",\"2022-12-02T00:00:00\",\"2022-12-05T00:00:00\",\"2022-12-06T00:00:00\",\"2022-12-07T00:00:00\",\"2022-12-08T00:00:00\",\"2022-12-09T00:00:00\",\"2022-12-12T00:00:00\",\"2022-12-13T00:00:00\",\"2022-12-14T00:00:00\",\"2022-12-15T00:00:00\",\"2022-12-16T00:00:00\",\"2022-12-19T00:00:00\",\"2022-12-20T00:00:00\",\"2022-12-21T00:00:00\",\"2022-12-22T00:00:00\",\"2022-12-23T00:00:00\",\"2022-12-27T00:00:00\",\"2022-12-28T00:00:00\",\"2022-12-29T00:00:00\",\"2022-12-30T00:00:00\",\"2023-01-03T00:00:00\",\"2023-01-04T00:00:00\",\"2023-01-05T00:00:00\",\"2023-01-06T00:00:00\",\"2023-01-09T00:00:00\",\"2023-01-10T00:00:00\",\"2023-01-11T00:00:00\",\"2023-01-12T00:00:00\",\"2023-01-13T00:00:00\",\"2023-01-17T00:00:00\",\"2023-01-18T00:00:00\",\"2023-01-19T00:00:00\",\"2023-01-20T00:00:00\",\"2023-01-23T00:00:00\",\"2023-01-24T00:00:00\",\"2023-01-25T00:00:00\",\"2023-01-26T00:00:00\",\"2023-01-27T00:00:00\",\"2023-01-30T00:00:00\",\"2023-01-31T00:00:00\",\"2023-02-01T00:00:00\"],\"y\":[12.77,12.26,12.34,12.69,12.61,12.38,12.25,13.01,13.26,13.32,12.56,11.99,11.98,12.9,12.2,13.2,13.21,13.04,12.43,12.62,12.14,11.9,11.79,11.04,10.9,10.4,10.26,10.9,11.19,11.07,11.34,10.81,10.95,11.23,11.38,11.9,12.05,12.65,13.33,13.18,13.1,13.54,14.54,14.52,14.65,15.08,17.77,16.3,19.85,21.68],\"type\":\"scatter\"},{\"name\":\"Test\",\"x\":[\"2023-02-02T00:00:00\",\"2023-02-03T00:00:00\",\"2023-02-06T00:00:00\",\"2023-02-07T00:00:00\",\"2023-02-08T00:00:00\",\"2023-02-09T00:00:00\",\"2023-02-10T00:00:00\",\"2023-02-13T00:00:00\",\"2023-02-14T00:00:00\",\"2023-02-15T00:00:00\",\"2023-02-16T00:00:00\",\"2023-02-17T00:00:00\",\"2023-02-21T00:00:00\",\"2023-02-22T00:00:00\",\"2023-02-23T00:00:00\",\"2023-02-24T00:00:00\",\"2023-02-27T00:00:00\",\"2023-02-28T00:00:00\",\"2023-03-01T00:00:00\",\"2023-03-02T00:00:00\",\"2023-03-03T00:00:00\",\"2023-03-06T00:00:00\",\"2023-03-07T00:00:00\",\"2023-03-08T00:00:00\",\"2023-03-09T00:00:00\"],\"y\":[21.92,25.88,27.55,24.53,26.19,22.49,22.99,21.14,23.31,25.5,24.23,23.84,21.63,22.36,22.87,22.41,22.19,22.58,20.73,21.31,28.48,27.36,26.14,24.82,22.7],\"type\":\"scatter\"}],                        {\"title\":{\"text\":\"Datasets Plot\"},\"template\":{\"data\":{\"histogram2dcontour\":[{\"type\":\"histogram2dcontour\",\"colorbar\":{\"outlinewidth\":0,\"ticks\":\"\"},\"colorscale\":[[0.0,\"#0d0887\"],[0.1111111111111111,\"#46039f\"],[0.2222222222222222,\"#7201a8\"],[0.3333333333333333,\"#9c179e\"],[0.4444444444444444,\"#bd3786\"],[0.5555555555555556,\"#d8576b\"],[0.6666666666666666,\"#ed7953\"],[0.7777777777777778,\"#fb9f3a\"],[0.8888888888888888,\"#fdca26\"],[1.0,\"#f0f921\"]]}],\"choropleth\":[{\"type\":\"choropleth\",\"colorbar\":{\"outlinewidth\":0,\"ticks\":\"\"}}],\"histogram2d\":[{\"type\":\"histogram2d\",\"colorbar\":{\"outlinewidth\":0,\"ticks\":\"\"},\"colorscale\":[[0.0,\"#0d0887\"],[0.1111111111111111,\"#46039f\"],[0.2222222222222222,\"#7201a8\"],[0.3333333333333333,\"#9c179e\"],[0.4444444444444444,\"#bd3786\"],[0.5555555555555556,\"#d8576b\"],[0.6666666666666666,\"#ed7953\"],[0.7777777777777778,\"#fb9f3a\"],[0.8888888888888888,\"#fdca26\"],[1.0,\"#f0f921\"]]}],\"heatmap\":[{\"type\":\"heatmap\",\"colorbar\":{\"outlinewidth\":0,\"ticks\":\"\"},\"colorscale\":[[0.0,\"#0d0887\"],[0.1111111111111111,\"#46039f\"],[0.2222222222222222,\"#7201a8\"],[0.3333333333333333,\"#9c179e\"],[0.4444444444444444,\"#bd3786\"],[0.5555555555555556,\"#d8576b\"],[0.6666666666666666,\"#ed7953\"],[0.7777777777777778,\"#fb9f3a\"],[0.8888888888888888,\"#fdca26\"],[1.0,\"#f0f921\"]]}],\"heatmapgl\":[{\"type\":\"heatmapgl\",\"colorbar\":{\"outlinewidth\":0,\"ticks\":\"\"},\"colorscale\":[[0.0,\"#0d0887\"],[0.1111111111111111,\"#46039f\"],[0.2222222222222222,\"#7201a8\"],[0.3333333333333333,\"#9c179e\"],[0.4444444444444444,\"#bd3786\"],[0.5555555555555556,\"#d8576b\"],[0.6666666666666666,\"#ed7953\"],[0.7777777777777778,\"#fb9f3a\"],[0.8888888888888888,\"#fdca26\"],[1.0,\"#f0f921\"]]}],\"contourcarpet\":[{\"type\":\"contourcarpet\",\"colorbar\":{\"outlinewidth\":0,\"ticks\":\"\"}}],\"contour\":[{\"type\":\"contour\",\"colorbar\":{\"outlinewidth\":0,\"ticks\":\"\"},\"colorscale\":[[0.0,\"#0d0887\"],[0.1111111111111111,\"#46039f\"],[0.2222222222222222,\"#7201a8\"],[0.3333333333333333,\"#9c179e\"],[0.4444444444444444,\"#bd3786\"],[0.5555555555555556,\"#d8576b\"],[0.6666666666666666,\"#ed7953\"],[0.7777777777777778,\"#fb9f3a\"],[0.8888888888888888,\"#fdca26\"],[1.0,\"#f0f921\"]]}],\"surface\":[{\"type\":\"surface\",\"colorbar\":{\"outlinewidth\":0,\"ticks\":\"\"},\"colorscale\":[[0.0,\"#0d0887\"],[0.1111111111111111,\"#46039f\"],[0.2222222222222222,\"#7201a8\"],[0.3333333333333333,\"#9c179e\"],[0.4444444444444444,\"#bd3786\"],[0.5555555555555556,\"#d8576b\"],[0.6666666666666666,\"#ed7953\"],[0.7777777777777778,\"#fb9f3a\"],[0.8888888888888888,\"#fdca26\"],[1.0,\"#f0f921\"]]}],\"mesh3d\":[{\"type\":\"mesh3d\",\"colorbar\":{\"outlinewidth\":0,\"ticks\":\"\"}}],\"scatter\":[{\"fillpattern\":{\"fillmode\":\"overlay\",\"size\":10,\"solidity\":0.2},\"type\":\"scatter\"}],\"parcoords\":[{\"type\":\"parcoords\",\"line\":{\"colorbar\":{\"outlinewidth\":0,\"ticks\":\"\"}}}],\"scatterpolargl\":[{\"type\":\"scatterpolargl\",\"marker\":{\"colorbar\":{\"outlinewidth\":0,\"ticks\":\"\"}}}],\"bar\":[{\"error_x\":{\"color\":\"#2a3f5f\"},\"error_y\":{\"color\":\"#2a3f5f\"},\"marker\":{\"line\":{\"color\":\"#E5ECF6\",\"width\":0.5},\"pattern\":{\"fillmode\":\"overlay\",\"size\":10,\"solidity\":0.2}},\"type\":\"bar\"}],\"scattergeo\":[{\"type\":\"scattergeo\",\"marker\":{\"colorbar\":{\"outlinewidth\":0,\"ticks\":\"\"}}}],\"scatterpolar\":[{\"type\":\"scatterpolar\",\"marker\":{\"colorbar\":{\"outlinewidth\":0,\"ticks\":\"\"}}}],\"histogram\":[{\"marker\":{\"pattern\":{\"fillmode\":\"overlay\",\"size\":10,\"solidity\":0.2}},\"type\":\"histogram\"}],\"scattergl\":[{\"type\":\"scattergl\",\"marker\":{\"colorbar\":{\"outlinewidth\":0,\"ticks\":\"\"}}}],\"scatter3d\":[{\"type\":\"scatter3d\",\"line\":{\"colorbar\":{\"outlinewidth\":0,\"ticks\":\"\"}},\"marker\":{\"colorbar\":{\"outlinewidth\":0,\"ticks\":\"\"}}}],\"scattermapbox\":[{\"type\":\"scattermapbox\",\"marker\":{\"colorbar\":{\"outlinewidth\":0,\"ticks\":\"\"}}}],\"scatterternary\":[{\"type\":\"scatterternary\",\"marker\":{\"colorbar\":{\"outlinewidth\":0,\"ticks\":\"\"}}}],\"scattercarpet\":[{\"type\":\"scattercarpet\",\"marker\":{\"colorbar\":{\"outlinewidth\":0,\"ticks\":\"\"}}}],\"carpet\":[{\"aaxis\":{\"endlinecolor\":\"#2a3f5f\",\"gridcolor\":\"white\",\"linecolor\":\"white\",\"minorgridcolor\":\"white\",\"startlinecolor\":\"#2a3f5f\"},\"baxis\":{\"endlinecolor\":\"#2a3f5f\",\"gridcolor\":\"white\",\"linecolor\":\"white\",\"minorgridcolor\":\"white\",\"startlinecolor\":\"#2a3f5f\"},\"type\":\"carpet\"}],\"table\":[{\"cells\":{\"fill\":{\"color\":\"#EBF0F8\"},\"line\":{\"color\":\"white\"}},\"header\":{\"fill\":{\"color\":\"#C8D4E3\"},\"line\":{\"color\":\"white\"}},\"type\":\"table\"}],\"barpolar\":[{\"marker\":{\"line\":{\"color\":\"#E5ECF6\",\"width\":0.5},\"pattern\":{\"fillmode\":\"overlay\",\"size\":10,\"solidity\":0.2}},\"type\":\"barpolar\"}],\"pie\":[{\"automargin\":true,\"type\":\"pie\"}]},\"layout\":{\"autotypenumbers\":\"strict\",\"colorway\":[\"#636efa\",\"#EF553B\",\"#00cc96\",\"#ab63fa\",\"#FFA15A\",\"#19d3f3\",\"#FF6692\",\"#B6E880\",\"#FF97FF\",\"#FECB52\"],\"font\":{\"color\":\"#2a3f5f\"},\"hovermode\":\"closest\",\"hoverlabel\":{\"align\":\"left\"},\"paper_bgcolor\":\"white\",\"plot_bgcolor\":\"#E5ECF6\",\"polar\":{\"bgcolor\":\"#E5ECF6\",\"angularaxis\":{\"gridcolor\":\"white\",\"linecolor\":\"white\",\"ticks\":\"\"},\"radialaxis\":{\"gridcolor\":\"white\",\"linecolor\":\"white\",\"ticks\":\"\"}},\"ternary\":{\"bgcolor\":\"#E5ECF6\",\"aaxis\":{\"gridcolor\":\"white\",\"linecolor\":\"white\",\"ticks\":\"\"},\"baxis\":{\"gridcolor\":\"white\",\"linecolor\":\"white\",\"ticks\":\"\"},\"caxis\":{\"gridcolor\":\"white\",\"linecolor\":\"white\",\"ticks\":\"\"}},\"coloraxis\":{\"colorbar\":{\"outlinewidth\":0,\"ticks\":\"\"}},\"colorscale\":{\"sequential\":[[0.0,\"#0d0887\"],[0.1111111111111111,\"#46039f\"],[0.2222222222222222,\"#7201a8\"],[0.3333333333333333,\"#9c179e\"],[0.4444444444444444,\"#bd3786\"],[0.5555555555555556,\"#d8576b\"],[0.6666666666666666,\"#ed7953\"],[0.7777777777777778,\"#fb9f3a\"],[0.8888888888888888,\"#fdca26\"],[1.0,\"#f0f921\"]],\"sequentialminus\":[[0.0,\"#0d0887\"],[0.1111111111111111,\"#46039f\"],[0.2222222222222222,\"#7201a8\"],[0.3333333333333333,\"#9c179e\"],[0.4444444444444444,\"#bd3786\"],[0.5555555555555556,\"#d8576b\"],[0.6666666666666666,\"#ed7953\"],[0.7777777777777778,\"#fb9f3a\"],[0.8888888888888888,\"#fdca26\"],[1.0,\"#f0f921\"]],\"diverging\":[[0,\"#8e0152\"],[0.1,\"#c51b7d\"],[0.2,\"#de77ae\"],[0.3,\"#f1b6da\"],[0.4,\"#fde0ef\"],[0.5,\"#f7f7f7\"],[0.6,\"#e6f5d0\"],[0.7,\"#b8e186\"],[0.8,\"#7fbc41\"],[0.9,\"#4d9221\"],[1,\"#276419\"]]},\"xaxis\":{\"gridcolor\":\"white\",\"linecolor\":\"white\",\"ticks\":\"\",\"title\":{\"standoff\":15},\"zerolinecolor\":\"white\",\"automargin\":true,\"zerolinewidth\":2},\"yaxis\":{\"gridcolor\":\"white\",\"linecolor\":\"white\",\"ticks\":\"\",\"title\":{\"standoff\":15},\"zerolinecolor\":\"white\",\"automargin\":true,\"zerolinewidth\":2},\"scene\":{\"xaxis\":{\"backgroundcolor\":\"#E5ECF6\",\"gridcolor\":\"white\",\"linecolor\":\"white\",\"showbackground\":true,\"ticks\":\"\",\"zerolinecolor\":\"white\",\"gridwidth\":2},\"yaxis\":{\"backgroundcolor\":\"#E5ECF6\",\"gridcolor\":\"white\",\"linecolor\":\"white\",\"showbackground\":true,\"ticks\":\"\",\"zerolinecolor\":\"white\",\"gridwidth\":2},\"zaxis\":{\"backgroundcolor\":\"#E5ECF6\",\"gridcolor\":\"white\",\"linecolor\":\"white\",\"showbackground\":true,\"ticks\":\"\",\"zerolinecolor\":\"white\",\"gridwidth\":2}},\"shapedefaults\":{\"line\":{\"color\":\"#2a3f5f\"}},\"annotationdefaults\":{\"arrowcolor\":\"#2a3f5f\",\"arrowhead\":0,\"arrowwidth\":1},\"geo\":{\"bgcolor\":\"white\",\"landcolor\":\"#E5ECF6\",\"subunitcolor\":\"white\",\"showland\":true,\"showlakes\":true,\"lakecolor\":\"white\"},\"title\":{\"x\":0.05},\"mapbox\":{\"style\":\"light\"}}}},                        {\"responsive\": true}                    ).then(function(){\n",
       "                            \n",
       "var gd = document.getElementById('0df8a100-61d5-4d4c-9015-b8a67f8c089b');\n",
       "var x = new MutationObserver(function (mutations, observer) {{\n",
       "        var display = window.getComputedStyle(gd).display;\n",
       "        if (!display || display === 'none') {{\n",
       "            console.log([gd, 'removed!']);\n",
       "            Plotly.purge(gd);\n",
       "            observer.disconnect();\n",
       "        }}\n",
       "}});\n",
       "\n",
       "// Listen for the removal of the full notebook cells\n",
       "var notebookContainer = gd.closest('#notebook-container');\n",
       "if (notebookContainer) {{\n",
       "    x.observe(notebookContainer, {childList: true});\n",
       "}}\n",
       "\n",
       "// Listen for the clearing of the current output cell\n",
       "var outputEl = gd.closest('.output');\n",
       "if (outputEl) {{\n",
       "    x.observe(outputEl, {childList: true});\n",
       "}}\n",
       "\n",
       "                        })                };                });            </script>        </div>"
      ]
     },
     "metadata": {},
     "output_type": "display_data"
    }
   ],
   "source": [
    "# Creating traces for each dataset\n",
    "trace_train = go.Scatter(x=dates_train, y=y_train, name='Train')\n",
    "trace_val = go.Scatter(x=dates_val, y=y_val, name='Validation')\n",
    "trace_test = go.Scatter(x=dates_test, y=y_test, name='Test')\n",
    "\n",
    "# Combining traces, setting layout and plotting figure\n",
    "data = [trace_train, trace_val, trace_test]\n",
    "layout = go.Layout(title='Datasets Plot')\n",
    "fig = go.Figure(data=data, layout=layout)\n",
    "fig.show()"
   ]
  },
  {
   "cell_type": "markdown",
   "id": "529c9ff4",
   "metadata": {
    "papermill": {
     "duration": 0.009641,
     "end_time": "2023-03-12T10:24:42.491495",
     "exception": false,
     "start_time": "2023-03-12T10:24:42.481854",
     "status": "completed"
    },
    "tags": []
   },
   "source": [
    "As we can see data is correctly spitted."
   ]
  },
  {
   "cell_type": "markdown",
   "id": "d90280ac",
   "metadata": {
    "papermill": {
     "duration": 0.008991,
     "end_time": "2023-03-12T10:24:42.509728",
     "exception": false,
     "start_time": "2023-03-12T10:24:42.500737",
     "status": "completed"
    },
    "tags": []
   },
   "source": [
    "# <div style=\"color:white;display:fill;border-radius:20px;background-color:#f4ebdc;font-size:70%;font-family:Charter;letter-spacing:1px\"><h3 style='padding: 20px;color:#8b4726;text-align:center;'>Building LSTM Model</h3></div>"
   ]
  },
  {
   "cell_type": "markdown",
   "id": "7a512477",
   "metadata": {
    "papermill": {
     "duration": 0.008949,
     "end_time": "2023-03-12T10:24:42.528105",
     "exception": false,
     "start_time": "2023-03-12T10:24:42.519156",
     "status": "completed"
    },
    "tags": []
   },
   "source": [
    "Step in which we are going to build and train LSTM model using Keras library."
   ]
  },
  {
   "cell_type": "code",
   "execution_count": 14,
   "id": "1e50a8cc",
   "metadata": {
    "execution": {
     "iopub.execute_input": "2023-03-12T10:24:42.548603Z",
     "iopub.status.busy": "2023-03-12T10:24:42.548223Z",
     "iopub.status.idle": "2023-03-12T10:24:57.418817Z",
     "shell.execute_reply": "2023-03-12T10:24:57.417719Z"
    },
    "papermill": {
     "duration": 14.883648,
     "end_time": "2023-03-12T10:24:57.421005",
     "exception": false,
     "start_time": "2023-03-12T10:24:42.537357",
     "status": "completed"
    },
    "tags": []
   },
   "outputs": [
    {
     "name": "stdout",
     "output_type": "stream",
     "text": [
      "Epoch 1/80\n",
      "6/6 [==============================] - 3s 112ms/step - loss: 301.4893 - mean_absolute_error: 17.0142 - val_loss: 143.7497 - val_mean_absolute_error: 11.7874\n",
      "Epoch 2/80\n",
      "6/6 [==============================] - 0s 9ms/step - loss: 267.8904 - mean_absolute_error: 15.9847 - val_loss: 110.1572 - val_mean_absolute_error: 10.2563\n",
      "Epoch 3/80\n",
      "6/6 [==============================] - 0s 10ms/step - loss: 216.8987 - mean_absolute_error: 14.2697 - val_loss: 64.1041 - val_mean_absolute_error: 7.6762\n",
      "Epoch 4/80\n",
      "6/6 [==============================] - 0s 9ms/step - loss: 144.5259 - mean_absolute_error: 11.4172 - val_loss: 17.6292 - val_mean_absolute_error: 3.4952\n",
      "Epoch 5/80\n",
      "6/6 [==============================] - 0s 9ms/step - loss: 62.6059 - mean_absolute_error: 6.8143 - val_loss: 10.3875 - val_mean_absolute_error: 2.9476\n",
      "Epoch 6/80\n",
      "6/6 [==============================] - 0s 9ms/step - loss: 17.6435 - mean_absolute_error: 3.5901 - val_loss: 60.5309 - val_mean_absolute_error: 7.5317\n",
      "Epoch 7/80\n",
      "6/6 [==============================] - 0s 9ms/step - loss: 24.2366 - mean_absolute_error: 4.0194 - val_loss: 66.0478 - val_mean_absolute_error: 7.8811\n",
      "Epoch 8/80\n",
      "6/6 [==============================] - 0s 9ms/step - loss: 18.3763 - mean_absolute_error: 3.4535 - val_loss: 33.5020 - val_mean_absolute_error: 5.5826\n",
      "Epoch 9/80\n",
      "6/6 [==============================] - 0s 8ms/step - loss: 12.0054 - mean_absolute_error: 2.8986 - val_loss: 17.3813 - val_mean_absolute_error: 3.9823\n",
      "Epoch 10/80\n",
      "6/6 [==============================] - 0s 8ms/step - loss: 12.3200 - mean_absolute_error: 3.0875 - val_loss: 14.9317 - val_mean_absolute_error: 3.6720\n",
      "Epoch 11/80\n",
      "6/6 [==============================] - 0s 9ms/step - loss: 12.0212 - mean_absolute_error: 3.0448 - val_loss: 18.0720 - val_mean_absolute_error: 4.0718\n",
      "Epoch 12/80\n",
      "6/6 [==============================] - 0s 8ms/step - loss: 10.8596 - mean_absolute_error: 2.8431 - val_loss: 22.6365 - val_mean_absolute_error: 4.5757\n",
      "Epoch 13/80\n",
      "6/6 [==============================] - 0s 8ms/step - loss: 10.4380 - mean_absolute_error: 2.7029 - val_loss: 23.3493 - val_mean_absolute_error: 4.6512\n",
      "Epoch 14/80\n",
      "6/6 [==============================] - 0s 8ms/step - loss: 9.8311 - mean_absolute_error: 2.6228 - val_loss: 17.7855 - val_mean_absolute_error: 4.0591\n",
      "Epoch 15/80\n",
      "6/6 [==============================] - 0s 9ms/step - loss: 8.7545 - mean_absolute_error: 2.5353 - val_loss: 10.1549 - val_mean_absolute_error: 3.0193\n",
      "Epoch 16/80\n",
      "6/6 [==============================] - 0s 9ms/step - loss: 7.5192 - mean_absolute_error: 2.3672 - val_loss: 8.6288 - val_mean_absolute_error: 2.7813\n",
      "Epoch 17/80\n",
      "6/6 [==============================] - 0s 9ms/step - loss: 5.7561 - mean_absolute_error: 2.0230 - val_loss: 5.9140 - val_mean_absolute_error: 2.2483\n",
      "Epoch 18/80\n",
      "6/6 [==============================] - 0s 9ms/step - loss: 4.4720 - mean_absolute_error: 1.7869 - val_loss: 7.4683 - val_mean_absolute_error: 2.5871\n",
      "Epoch 19/80\n",
      "6/6 [==============================] - 0s 9ms/step - loss: 4.0955 - mean_absolute_error: 1.7111 - val_loss: 4.8017 - val_mean_absolute_error: 1.9908\n",
      "Epoch 20/80\n",
      "6/6 [==============================] - 0s 9ms/step - loss: 3.3601 - mean_absolute_error: 1.5425 - val_loss: 4.3877 - val_mean_absolute_error: 1.8944\n",
      "Epoch 21/80\n",
      "6/6 [==============================] - 0s 12ms/step - loss: 2.8190 - mean_absolute_error: 1.4009 - val_loss: 3.7906 - val_mean_absolute_error: 1.7350\n",
      "Epoch 22/80\n",
      "6/6 [==============================] - 0s 9ms/step - loss: 2.5132 - mean_absolute_error: 1.3135 - val_loss: 2.7171 - val_mean_absolute_error: 1.3712\n",
      "Epoch 23/80\n",
      "6/6 [==============================] - 0s 9ms/step - loss: 2.2206 - mean_absolute_error: 1.2110 - val_loss: 2.5234 - val_mean_absolute_error: 1.3241\n",
      "Epoch 24/80\n",
      "6/6 [==============================] - 0s 9ms/step - loss: 2.0719 - mean_absolute_error: 1.1586 - val_loss: 1.9479 - val_mean_absolute_error: 1.0782\n",
      "Epoch 25/80\n",
      "6/6 [==============================] - 0s 9ms/step - loss: 1.8859 - mean_absolute_error: 1.0862 - val_loss: 1.6191 - val_mean_absolute_error: 0.8985\n",
      "Epoch 26/80\n",
      "6/6 [==============================] - 0s 9ms/step - loss: 1.8042 - mean_absolute_error: 1.0193 - val_loss: 1.5832 - val_mean_absolute_error: 0.9589\n",
      "Epoch 27/80\n",
      "6/6 [==============================] - 0s 9ms/step - loss: 1.8292 - mean_absolute_error: 1.0577 - val_loss: 1.8069 - val_mean_absolute_error: 0.9277\n",
      "Epoch 28/80\n",
      "6/6 [==============================] - 0s 9ms/step - loss: 1.9250 - mean_absolute_error: 1.0217 - val_loss: 1.3845 - val_mean_absolute_error: 0.8436\n",
      "Epoch 29/80\n",
      "6/6 [==============================] - 0s 9ms/step - loss: 1.6827 - mean_absolute_error: 0.9727 - val_loss: 1.4485 - val_mean_absolute_error: 0.8467\n",
      "Epoch 30/80\n",
      "6/6 [==============================] - 0s 9ms/step - loss: 1.6854 - mean_absolute_error: 0.9696 - val_loss: 1.4271 - val_mean_absolute_error: 0.8439\n",
      "Epoch 31/80\n",
      "6/6 [==============================] - 0s 9ms/step - loss: 1.6110 - mean_absolute_error: 0.9518 - val_loss: 1.4120 - val_mean_absolute_error: 0.8384\n",
      "Epoch 32/80\n",
      "6/6 [==============================] - 0s 9ms/step - loss: 1.6081 - mean_absolute_error: 0.9482 - val_loss: 1.3580 - val_mean_absolute_error: 0.8418\n",
      "Epoch 33/80\n",
      "6/6 [==============================] - 0s 9ms/step - loss: 1.6092 - mean_absolute_error: 0.9716 - val_loss: 1.6128 - val_mean_absolute_error: 0.8674\n",
      "Epoch 34/80\n",
      "6/6 [==============================] - 0s 12ms/step - loss: 1.7523 - mean_absolute_error: 1.0206 - val_loss: 1.4394 - val_mean_absolute_error: 0.8985\n",
      "Epoch 35/80\n",
      "6/6 [==============================] - 0s 9ms/step - loss: 1.6413 - mean_absolute_error: 0.9920 - val_loss: 1.4875 - val_mean_absolute_error: 0.8367\n",
      "Epoch 36/80\n",
      "6/6 [==============================] - 0s 9ms/step - loss: 1.5751 - mean_absolute_error: 0.9474 - val_loss: 1.3602 - val_mean_absolute_error: 0.8240\n",
      "Epoch 37/80\n",
      "6/6 [==============================] - 0s 9ms/step - loss: 1.4679 - mean_absolute_error: 0.9138 - val_loss: 1.3543 - val_mean_absolute_error: 0.8181\n",
      "Epoch 38/80\n",
      "6/6 [==============================] - 0s 9ms/step - loss: 1.5271 - mean_absolute_error: 0.9332 - val_loss: 1.3887 - val_mean_absolute_error: 0.8163\n",
      "Epoch 39/80\n",
      "6/6 [==============================] - 0s 9ms/step - loss: 1.4281 - mean_absolute_error: 0.8876 - val_loss: 1.3450 - val_mean_absolute_error: 0.8104\n",
      "Epoch 40/80\n",
      "6/6 [==============================] - 0s 9ms/step - loss: 1.4089 - mean_absolute_error: 0.8861 - val_loss: 1.3189 - val_mean_absolute_error: 0.8102\n",
      "Epoch 41/80\n",
      "6/6 [==============================] - 0s 9ms/step - loss: 1.3991 - mean_absolute_error: 0.8909 - val_loss: 1.3373 - val_mean_absolute_error: 0.8113\n",
      "Epoch 42/80\n",
      "6/6 [==============================] - 0s 9ms/step - loss: 1.3729 - mean_absolute_error: 0.8741 - val_loss: 1.3099 - val_mean_absolute_error: 0.8155\n",
      "Epoch 43/80\n",
      "6/6 [==============================] - 0s 9ms/step - loss: 1.3807 - mean_absolute_error: 0.8783 - val_loss: 1.3293 - val_mean_absolute_error: 0.8038\n",
      "Epoch 44/80\n",
      "6/6 [==============================] - 0s 9ms/step - loss: 1.3582 - mean_absolute_error: 0.8736 - val_loss: 1.3787 - val_mean_absolute_error: 0.8078\n",
      "Epoch 45/80\n",
      "6/6 [==============================] - 0s 9ms/step - loss: 1.4325 - mean_absolute_error: 0.9136 - val_loss: 1.3382 - val_mean_absolute_error: 0.8551\n",
      "Epoch 46/80\n",
      "6/6 [==============================] - 0s 9ms/step - loss: 1.4114 - mean_absolute_error: 0.9246 - val_loss: 1.5506 - val_mean_absolute_error: 0.8248\n",
      "Epoch 47/80\n",
      "6/6 [==============================] - 0s 9ms/step - loss: 1.5656 - mean_absolute_error: 0.9276 - val_loss: 1.2716 - val_mean_absolute_error: 0.8004\n",
      "Epoch 48/80\n",
      "6/6 [==============================] - 0s 9ms/step - loss: 1.4722 - mean_absolute_error: 0.9175 - val_loss: 1.2790 - val_mean_absolute_error: 0.8208\n",
      "Epoch 49/80\n",
      "6/6 [==============================] - 0s 9ms/step - loss: 1.5539 - mean_absolute_error: 0.9610 - val_loss: 1.4966 - val_mean_absolute_error: 0.8109\n",
      "Epoch 50/80\n",
      "6/6 [==============================] - 0s 9ms/step - loss: 1.6013 - mean_absolute_error: 0.9559 - val_loss: 1.4398 - val_mean_absolute_error: 0.9312\n",
      "Epoch 51/80\n",
      "6/6 [==============================] - 0s 9ms/step - loss: 1.4912 - mean_absolute_error: 0.9424 - val_loss: 1.4365 - val_mean_absolute_error: 0.7988\n",
      "Epoch 52/80\n",
      "6/6 [==============================] - 0s 9ms/step - loss: 1.5121 - mean_absolute_error: 0.9388 - val_loss: 1.3463 - val_mean_absolute_error: 0.8780\n",
      "Epoch 53/80\n",
      "6/6 [==============================] - 0s 9ms/step - loss: 1.5496 - mean_absolute_error: 0.9522 - val_loss: 1.4744 - val_mean_absolute_error: 0.8091\n",
      "Epoch 54/80\n",
      "6/6 [==============================] - 0s 9ms/step - loss: 1.5675 - mean_absolute_error: 0.9801 - val_loss: 1.1594 - val_mean_absolute_error: 0.7813\n",
      "Epoch 55/80\n",
      "6/6 [==============================] - 0s 9ms/step - loss: 1.4343 - mean_absolute_error: 0.9225 - val_loss: 1.4130 - val_mean_absolute_error: 0.7944\n",
      "Epoch 56/80\n",
      "6/6 [==============================] - 0s 9ms/step - loss: 1.3733 - mean_absolute_error: 0.8867 - val_loss: 1.1571 - val_mean_absolute_error: 0.7710\n",
      "Epoch 57/80\n",
      "6/6 [==============================] - 0s 9ms/step - loss: 1.2977 - mean_absolute_error: 0.8547 - val_loss: 1.3680 - val_mean_absolute_error: 0.7830\n",
      "Epoch 58/80\n",
      "6/6 [==============================] - 0s 9ms/step - loss: 1.3951 - mean_absolute_error: 0.8971 - val_loss: 1.1380 - val_mean_absolute_error: 0.7538\n",
      "Epoch 59/80\n",
      "6/6 [==============================] - 0s 9ms/step - loss: 1.2434 - mean_absolute_error: 0.8376 - val_loss: 1.2215 - val_mean_absolute_error: 0.7541\n",
      "Epoch 60/80\n",
      "6/6 [==============================] - 0s 9ms/step - loss: 1.2381 - mean_absolute_error: 0.8332 - val_loss: 1.2002 - val_mean_absolute_error: 0.7488\n",
      "Epoch 61/80\n",
      "6/6 [==============================] - 0s 9ms/step - loss: 1.2343 - mean_absolute_error: 0.8377 - val_loss: 1.1511 - val_mean_absolute_error: 0.7600\n",
      "Epoch 62/80\n",
      "6/6 [==============================] - 0s 9ms/step - loss: 1.2382 - mean_absolute_error: 0.8326 - val_loss: 1.2625 - val_mean_absolute_error: 0.7544\n",
      "Epoch 63/80\n",
      "6/6 [==============================] - 0s 9ms/step - loss: 1.2487 - mean_absolute_error: 0.8399 - val_loss: 1.1112 - val_mean_absolute_error: 0.7507\n",
      "Epoch 64/80\n",
      "6/6 [==============================] - 0s 9ms/step - loss: 1.2456 - mean_absolute_error: 0.8473 - val_loss: 1.2758 - val_mean_absolute_error: 0.7549\n",
      "Epoch 65/80\n",
      "6/6 [==============================] - 0s 9ms/step - loss: 1.2420 - mean_absolute_error: 0.8283 - val_loss: 1.1122 - val_mean_absolute_error: 0.7430\n",
      "Epoch 66/80\n",
      "6/6 [==============================] - 0s 9ms/step - loss: 1.1638 - mean_absolute_error: 0.8246 - val_loss: 1.1655 - val_mean_absolute_error: 0.7318\n",
      "Epoch 67/80\n",
      "6/6 [==============================] - 0s 9ms/step - loss: 1.1401 - mean_absolute_error: 0.8081 - val_loss: 1.0794 - val_mean_absolute_error: 0.7205\n",
      "Epoch 68/80\n",
      "6/6 [==============================] - 0s 12ms/step - loss: 1.1440 - mean_absolute_error: 0.7967 - val_loss: 1.1234 - val_mean_absolute_error: 0.7190\n",
      "Epoch 69/80\n",
      "6/6 [==============================] - 0s 9ms/step - loss: 1.1237 - mean_absolute_error: 0.7963 - val_loss: 1.1282 - val_mean_absolute_error: 0.7181\n",
      "Epoch 70/80\n",
      "6/6 [==============================] - 0s 9ms/step - loss: 1.1209 - mean_absolute_error: 0.7954 - val_loss: 1.0959 - val_mean_absolute_error: 0.7112\n",
      "Epoch 71/80\n",
      "6/6 [==============================] - 0s 9ms/step - loss: 1.1256 - mean_absolute_error: 0.7986 - val_loss: 1.1523 - val_mean_absolute_error: 0.7209\n",
      "Epoch 72/80\n",
      "6/6 [==============================] - 0s 9ms/step - loss: 1.1130 - mean_absolute_error: 0.7939 - val_loss: 1.0768 - val_mean_absolute_error: 0.7305\n",
      "Epoch 73/80\n",
      "6/6 [==============================] - 0s 8ms/step - loss: 1.2132 - mean_absolute_error: 0.8175 - val_loss: 1.1286 - val_mean_absolute_error: 0.7124\n",
      "Epoch 74/80\n",
      "6/6 [==============================] - 0s 8ms/step - loss: 1.1104 - mean_absolute_error: 0.7873 - val_loss: 1.0298 - val_mean_absolute_error: 0.6902\n",
      "Epoch 75/80\n",
      "6/6 [==============================] - 0s 9ms/step - loss: 1.1636 - mean_absolute_error: 0.7893 - val_loss: 1.0313 - val_mean_absolute_error: 0.6965\n",
      "Epoch 76/80\n",
      "6/6 [==============================] - 0s 8ms/step - loss: 1.1078 - mean_absolute_error: 0.7811 - val_loss: 1.1565 - val_mean_absolute_error: 0.7136\n",
      "Epoch 77/80\n",
      "6/6 [==============================] - 0s 9ms/step - loss: 1.2523 - mean_absolute_error: 0.8427 - val_loss: 1.1179 - val_mean_absolute_error: 0.7842\n",
      "Epoch 78/80\n",
      "6/6 [==============================] - 0s 9ms/step - loss: 1.2270 - mean_absolute_error: 0.8335 - val_loss: 1.0892 - val_mean_absolute_error: 0.6977\n",
      "Epoch 79/80\n",
      "6/6 [==============================] - 0s 9ms/step - loss: 1.2966 - mean_absolute_error: 0.8736 - val_loss: 1.1161 - val_mean_absolute_error: 0.7018\n",
      "Epoch 80/80\n",
      "6/6 [==============================] - 0s 8ms/step - loss: 1.2121 - mean_absolute_error: 0.8243 - val_loss: 1.0052 - val_mean_absolute_error: 0.7104\n"
     ]
    },
    {
     "data": {
      "text/plain": [
       "<keras.callbacks.History at 0x7eff5062fd10>"
      ]
     },
     "execution_count": 14,
     "metadata": {},
     "output_type": "execute_result"
    }
   ],
   "source": [
    "from tensorflow.keras.models import Sequential\n",
    "from tensorflow.keras.optimizers import Adam\n",
    "from tensorflow.keras import layers\n",
    "\n",
    "model = Sequential([layers.Input((3, 1)),\n",
    "                    layers.LSTM(32),\n",
    "                    layers.Dense(16, activation='relu'),\n",
    "                    layers.Dense(16, activation='relu'),\n",
    "                    layers.Dense(1)])\n",
    "\n",
    "model.compile(loss='mse', \n",
    "              optimizer=Adam(learning_rate=0.003),\n",
    "              metrics=['mean_absolute_error'])\n",
    "\n",
    "model.fit(X_train, y_train, validation_data=(X_val, y_val), epochs=80)"
   ]
  },
  {
   "cell_type": "markdown",
   "id": "c52ae62a",
   "metadata": {
    "papermill": {
     "duration": 0.021742,
     "end_time": "2023-03-12T10:24:57.465382",
     "exception": false,
     "start_time": "2023-03-12T10:24:57.443640",
     "status": "completed"
    },
    "tags": []
   },
   "source": [
    "# <div style=\"color:white;display:fill;border-radius:20px;background-color:#f4ebdc;font-size:70%;font-family:Charter;letter-spacing:1px\"><h3 style='padding: 20px;color:#8b4726;text-align:center;'>Model Testing</h3></div>"
   ]
  },
  {
   "cell_type": "markdown",
   "id": "7db56ebe",
   "metadata": {
    "papermill": {
     "duration": 0.021681,
     "end_time": "2023-03-12T10:24:57.508982",
     "exception": false,
     "start_time": "2023-03-12T10:24:57.487301",
     "status": "completed"
    },
    "tags": []
   },
   "source": [
    "### Making Predictions"
   ]
  },
  {
   "cell_type": "code",
   "execution_count": 15,
   "id": "5d2db8dc",
   "metadata": {
    "execution": {
     "iopub.execute_input": "2023-03-12T10:24:57.555120Z",
     "iopub.status.busy": "2023-03-12T10:24:57.554750Z",
     "iopub.status.idle": "2023-03-12T10:24:58.175021Z",
     "shell.execute_reply": "2023-03-12T10:24:58.173966Z"
    },
    "papermill": {
     "duration": 0.646016,
     "end_time": "2023-03-12T10:24:58.177364",
     "exception": false,
     "start_time": "2023-03-12T10:24:57.531348",
     "status": "completed"
    },
    "tags": []
   },
   "outputs": [
    {
     "name": "stdout",
     "output_type": "stream",
     "text": [
      "6/6 [==============================] - 0s 2ms/step\n",
      "2/2 [==============================] - 0s 3ms/step\n",
      "1/1 [==============================] - 0s 18ms/step\n"
     ]
    }
   ],
   "source": [
    "# Using model to predict sets\n",
    "train_predictions = model.predict(X_train).flatten()\n",
    "val_predictions = model.predict(X_val).flatten()\n",
    "test_predictions = model.predict(X_test).flatten()"
   ]
  },
  {
   "cell_type": "markdown",
   "id": "bf9b00f4",
   "metadata": {
    "papermill": {
     "duration": 0.023195,
     "end_time": "2023-03-12T10:24:58.223589",
     "exception": false,
     "start_time": "2023-03-12T10:24:58.200394",
     "status": "completed"
    },
    "tags": []
   },
   "source": [
    "### Plotting Results"
   ]
  },
  {
   "cell_type": "code",
   "execution_count": 16,
   "id": "b88c21bb",
   "metadata": {
    "execution": {
     "iopub.execute_input": "2023-03-12T10:24:58.274629Z",
     "iopub.status.busy": "2023-03-12T10:24:58.273692Z",
     "iopub.status.idle": "2023-03-12T10:24:58.290875Z",
     "shell.execute_reply": "2023-03-12T10:24:58.289734Z"
    },
    "papermill": {
     "duration": 0.045108,
     "end_time": "2023-03-12T10:24:58.293508",
     "exception": false,
     "start_time": "2023-03-12T10:24:58.248400",
     "status": "completed"
    },
    "tags": []
   },
   "outputs": [
    {
     "data": {
      "text/html": [
       "<div>                            <div id=\"45cbe8db-e8d9-4089-bb0b-94b983fd9fc9\" class=\"plotly-graph-div\" style=\"height:525px; width:100%;\"></div>            <script type=\"text/javascript\">                require([\"plotly\"], function(Plotly) {                    window.PLOTLYENV=window.PLOTLYENV || {};                                    if (document.getElementById(\"45cbe8db-e8d9-4089-bb0b-94b983fd9fc9\")) {                    Plotly.newPlot(                        \"45cbe8db-e8d9-4089-bb0b-94b983fd9fc9\",                        [{\"line\":{\"color\":\"grey\"},\"name\":\"Observations\",\"opacity\":0.5,\"x\":[\"2022-03-15T00:00:00\",\"2022-03-16T00:00:00\",\"2022-03-17T00:00:00\",\"2022-03-18T00:00:00\",\"2022-03-21T00:00:00\",\"2022-03-22T00:00:00\",\"2022-03-23T00:00:00\",\"2022-03-24T00:00:00\",\"2022-03-25T00:00:00\",\"2022-03-28T00:00:00\",\"2022-03-29T00:00:00\",\"2022-03-30T00:00:00\",\"2022-03-31T00:00:00\",\"2022-04-01T00:00:00\",\"2022-04-04T00:00:00\",\"2022-04-05T00:00:00\",\"2022-04-06T00:00:00\",\"2022-04-07T00:00:00\",\"2022-04-08T00:00:00\",\"2022-04-11T00:00:00\",\"2022-04-12T00:00:00\",\"2022-04-13T00:00:00\",\"2022-04-14T00:00:00\",\"2022-04-18T00:00:00\",\"2022-04-19T00:00:00\",\"2022-04-20T00:00:00\",\"2022-04-21T00:00:00\",\"2022-04-22T00:00:00\",\"2022-04-25T00:00:00\",\"2022-04-26T00:00:00\",\"2022-04-27T00:00:00\",\"2022-04-28T00:00:00\",\"2022-04-29T00:00:00\",\"2022-05-02T00:00:00\",\"2022-05-03T00:00:00\",\"2022-05-04T00:00:00\",\"2022-05-05T00:00:00\",\"2022-05-06T00:00:00\",\"2022-05-09T00:00:00\",\"2022-05-10T00:00:00\",\"2022-05-11T00:00:00\",\"2022-05-12T00:00:00\",\"2022-05-13T00:00:00\",\"2022-05-16T00:00:00\",\"2022-05-17T00:00:00\",\"2022-05-18T00:00:00\",\"2022-05-19T00:00:00\",\"2022-05-20T00:00:00\",\"2022-05-23T00:00:00\",\"2022-05-24T00:00:00\",\"2022-05-25T00:00:00\",\"2022-05-26T00:00:00\",\"2022-05-27T00:00:00\",\"2022-05-31T00:00:00\",\"2022-06-01T00:00:00\",\"2022-06-02T00:00:00\",\"2022-06-03T00:00:00\",\"2022-06-06T00:00:00\",\"2022-06-07T00:00:00\",\"2022-06-08T00:00:00\",\"2022-06-09T00:00:00\",\"2022-06-10T00:00:00\",\"2022-06-13T00:00:00\",\"2022-06-14T00:00:00\",\"2022-06-15T00:00:00\",\"2022-06-16T00:00:00\",\"2022-06-17T00:00:00\",\"2022-06-21T00:00:00\",\"2022-06-22T00:00:00\",\"2022-06-23T00:00:00\",\"2022-06-24T00:00:00\",\"2022-06-27T00:00:00\",\"2022-06-28T00:00:00\",\"2022-06-29T00:00:00\",\"2022-06-30T00:00:00\",\"2022-07-01T00:00:00\",\"2022-07-05T00:00:00\",\"2022-07-06T00:00:00\",\"2022-07-07T00:00:00\",\"2022-07-08T00:00:00\",\"2022-07-11T00:00:00\",\"2022-07-12T00:00:00\",\"2022-07-13T00:00:00\",\"2022-07-14T00:00:00\",\"2022-07-15T00:00:00\",\"2022-07-18T00:00:00\",\"2022-07-19T00:00:00\",\"2022-07-20T00:00:00\",\"2022-07-21T00:00:00\",\"2022-07-22T00:00:00\",\"2022-07-25T00:00:00\",\"2022-07-26T00:00:00\",\"2022-07-27T00:00:00\",\"2022-07-28T00:00:00\",\"2022-07-29T00:00:00\",\"2022-08-01T00:00:00\",\"2022-08-02T00:00:00\",\"2022-08-03T00:00:00\",\"2022-08-04T00:00:00\",\"2022-08-05T00:00:00\",\"2022-08-08T00:00:00\",\"2022-08-09T00:00:00\",\"2022-08-10T00:00:00\",\"2022-08-11T00:00:00\",\"2022-08-12T00:00:00\",\"2022-08-15T00:00:00\",\"2022-08-16T00:00:00\",\"2022-08-17T00:00:00\",\"2022-08-18T00:00:00\",\"2022-08-19T00:00:00\",\"2022-08-22T00:00:00\",\"2022-08-23T00:00:00\",\"2022-08-24T00:00:00\",\"2022-08-25T00:00:00\",\"2022-08-26T00:00:00\",\"2022-08-29T00:00:00\",\"2022-08-30T00:00:00\",\"2022-08-31T00:00:00\",\"2022-09-01T00:00:00\",\"2022-09-02T00:00:00\",\"2022-09-06T00:00:00\",\"2022-09-07T00:00:00\",\"2022-09-08T00:00:00\",\"2022-09-09T00:00:00\",\"2022-09-12T00:00:00\",\"2022-09-13T00:00:00\",\"2022-09-14T00:00:00\",\"2022-09-15T00:00:00\",\"2022-09-16T00:00:00\",\"2022-09-19T00:00:00\",\"2022-09-20T00:00:00\",\"2022-09-21T00:00:00\",\"2022-09-22T00:00:00\",\"2022-09-23T00:00:00\",\"2022-09-26T00:00:00\",\"2022-09-27T00:00:00\",\"2022-09-28T00:00:00\",\"2022-09-29T00:00:00\",\"2022-09-30T00:00:00\",\"2022-10-03T00:00:00\",\"2022-10-04T00:00:00\",\"2022-10-05T00:00:00\",\"2022-10-06T00:00:00\",\"2022-10-07T00:00:00\",\"2022-10-10T00:00:00\",\"2022-10-11T00:00:00\",\"2022-10-12T00:00:00\",\"2022-10-13T00:00:00\",\"2022-10-14T00:00:00\",\"2022-10-17T00:00:00\",\"2022-10-18T00:00:00\",\"2022-10-19T00:00:00\",\"2022-10-20T00:00:00\",\"2022-10-21T00:00:00\",\"2022-10-24T00:00:00\",\"2022-10-25T00:00:00\",\"2022-10-26T00:00:00\",\"2022-10-27T00:00:00\",\"2022-10-28T00:00:00\",\"2022-10-31T00:00:00\",\"2022-11-01T00:00:00\",\"2022-11-02T00:00:00\",\"2022-11-03T00:00:00\",\"2022-11-04T00:00:00\",\"2022-11-07T00:00:00\",\"2022-11-08T00:00:00\",\"2022-11-09T00:00:00\",\"2022-11-10T00:00:00\",\"2022-11-11T00:00:00\",\"2022-11-14T00:00:00\",\"2022-11-15T00:00:00\",\"2022-11-16T00:00:00\",\"2022-11-17T00:00:00\",\"2022-11-18T00:00:00\",\"2022-11-21T00:00:00\",\"2022-11-22T00:00:00\",\"2022-11-23T00:00:00\",\"2022-11-25T00:00:00\",\"2022-11-28T00:00:00\",\"2022-11-29T00:00:00\",\"2022-11-30T00:00:00\",\"2022-12-01T00:00:00\",\"2022-12-02T00:00:00\",\"2022-12-05T00:00:00\",\"2022-12-06T00:00:00\",\"2022-12-07T00:00:00\",\"2022-12-08T00:00:00\",\"2022-12-09T00:00:00\",\"2022-12-12T00:00:00\",\"2022-12-13T00:00:00\",\"2022-12-14T00:00:00\",\"2022-12-15T00:00:00\",\"2022-12-16T00:00:00\",\"2022-12-19T00:00:00\",\"2022-12-20T00:00:00\",\"2022-12-21T00:00:00\",\"2022-12-22T00:00:00\",\"2022-12-23T00:00:00\",\"2022-12-27T00:00:00\",\"2022-12-28T00:00:00\",\"2022-12-29T00:00:00\",\"2022-12-30T00:00:00\",\"2023-01-03T00:00:00\",\"2023-01-04T00:00:00\",\"2023-01-05T00:00:00\",\"2023-01-06T00:00:00\",\"2023-01-09T00:00:00\",\"2023-01-10T00:00:00\",\"2023-01-11T00:00:00\",\"2023-01-12T00:00:00\",\"2023-01-13T00:00:00\",\"2023-01-17T00:00:00\",\"2023-01-18T00:00:00\",\"2023-01-19T00:00:00\",\"2023-01-20T00:00:00\",\"2023-01-23T00:00:00\",\"2023-01-24T00:00:00\",\"2023-01-25T00:00:00\",\"2023-01-26T00:00:00\",\"2023-01-27T00:00:00\",\"2023-01-30T00:00:00\",\"2023-01-31T00:00:00\",\"2023-02-01T00:00:00\",\"2023-02-02T00:00:00\",\"2023-02-03T00:00:00\",\"2023-02-06T00:00:00\",\"2023-02-07T00:00:00\",\"2023-02-08T00:00:00\",\"2023-02-09T00:00:00\",\"2023-02-10T00:00:00\",\"2023-02-13T00:00:00\",\"2023-02-14T00:00:00\",\"2023-02-15T00:00:00\",\"2023-02-16T00:00:00\",\"2023-02-17T00:00:00\",\"2023-02-21T00:00:00\",\"2023-02-22T00:00:00\",\"2023-02-23T00:00:00\",\"2023-02-24T00:00:00\",\"2023-02-27T00:00:00\",\"2023-02-28T00:00:00\",\"2023-03-01T00:00:00\",\"2023-03-02T00:00:00\",\"2023-03-03T00:00:00\",\"2023-03-06T00:00:00\",\"2023-03-07T00:00:00\",\"2023-03-08T00:00:00\",\"2023-03-09T00:00:00\"],\"y\":[17.47,19.3,20.75,21.96,21.81,23.21,23.15,23.48,22.08,22.53,24.22,23.08,22.7,23.02,24.24,22.76,21.63,21.29,20.79,20.68,20.37,20.74,19.69,18.9,19.81,18.97,18.24,17.85,18.69,17.63,17.05,17.83,16.99,18.12,17.23,18.45,17.08,16.19,14.7,14.93,13.85,14.56,17.78,16.74,17.49,17.15,18.04,18.22,17.78,16.94,18.02,18.39,19.73,18.92,18.55,17.62,19.84,19.19,19.74,20.74,19.44,17.89,15.89,16.45,17.2,16.03,16.86,17.35,17.75,18.9,19.07,19.23,18.31,17.8,18.26,19.15,20.06,19.81,19.57,19.94,18.42,19.3,19.29,18.69,19.12,19.32,19.63,20.65,21.46,18.5,18.5,17.48,18.31,18.54,18.41,18.71,19.47,20.66,20.86,21.34,22.17,21.35,22.67,22.33,22.81,22.33,22.41,21.92,21.73,19.8,19.11,19.25,19.66,19.89,18.82,18.54,18.41,18.0,14.52,14.51,14.29,14.67,14.58,15.02,15.41,14.71,14.95,14.78,14.03,14.03,13.44,13.35,13.14,13.15,12.77,12.93,12.96,12.34,12.5,12.87,13.6,13.49,13.34,12.54,12.19,12.0,11.93,12.17,11.71,12.3,12.54,12.2,12.46,12.56,12.32,12.76,12.86,12.84,13.14,13.11,12.92,12.3,12.24,12.09,12.43,12.64,11.92,13.65,14.96,13.97,14.29,13.55,13.36,12.77,12.26,12.34,12.69,12.61,12.38,12.25,13.01,13.26,13.32,12.56,11.99,11.98,12.9,12.2,13.2,13.21,13.04,12.43,12.62,12.14,11.9,11.79,11.04,10.9,10.4,10.26,10.9,11.19,11.07,11.34,10.81,10.95,11.23,11.38,11.9,12.05,12.65,13.33,13.18,13.1,13.54,14.54,14.52,14.65,15.08,17.77,16.3,19.85,21.68,21.92,25.88,27.55,24.53,26.19,22.49,22.99,21.14,23.31,25.5,24.23,23.84,21.63,22.36,22.87,22.41,22.19,22.58,20.73,21.31,28.48,27.36,26.14,24.82,22.7],\"type\":\"scatter\"},{\"name\":\"Training Predictions\",\"x\":[\"2022-03-15T00:00:00\",\"2022-03-16T00:00:00\",\"2022-03-17T00:00:00\",\"2022-03-18T00:00:00\",\"2022-03-21T00:00:00\",\"2022-03-22T00:00:00\",\"2022-03-23T00:00:00\",\"2022-03-24T00:00:00\",\"2022-03-25T00:00:00\",\"2022-03-28T00:00:00\",\"2022-03-29T00:00:00\",\"2022-03-30T00:00:00\",\"2022-03-31T00:00:00\",\"2022-04-01T00:00:00\",\"2022-04-04T00:00:00\",\"2022-04-05T00:00:00\",\"2022-04-06T00:00:00\",\"2022-04-07T00:00:00\",\"2022-04-08T00:00:00\",\"2022-04-11T00:00:00\",\"2022-04-12T00:00:00\",\"2022-04-13T00:00:00\",\"2022-04-14T00:00:00\",\"2022-04-18T00:00:00\",\"2022-04-19T00:00:00\",\"2022-04-20T00:00:00\",\"2022-04-21T00:00:00\",\"2022-04-22T00:00:00\",\"2022-04-25T00:00:00\",\"2022-04-26T00:00:00\",\"2022-04-27T00:00:00\",\"2022-04-28T00:00:00\",\"2022-04-29T00:00:00\",\"2022-05-02T00:00:00\",\"2022-05-03T00:00:00\",\"2022-05-04T00:00:00\",\"2022-05-05T00:00:00\",\"2022-05-06T00:00:00\",\"2022-05-09T00:00:00\",\"2022-05-10T00:00:00\",\"2022-05-11T00:00:00\",\"2022-05-12T00:00:00\",\"2022-05-13T00:00:00\",\"2022-05-16T00:00:00\",\"2022-05-17T00:00:00\",\"2022-05-18T00:00:00\",\"2022-05-19T00:00:00\",\"2022-05-20T00:00:00\",\"2022-05-23T00:00:00\",\"2022-05-24T00:00:00\",\"2022-05-25T00:00:00\",\"2022-05-26T00:00:00\",\"2022-05-27T00:00:00\",\"2022-05-31T00:00:00\",\"2022-06-01T00:00:00\",\"2022-06-02T00:00:00\",\"2022-06-03T00:00:00\",\"2022-06-06T00:00:00\",\"2022-06-07T00:00:00\",\"2022-06-08T00:00:00\",\"2022-06-09T00:00:00\",\"2022-06-10T00:00:00\",\"2022-06-13T00:00:00\",\"2022-06-14T00:00:00\",\"2022-06-15T00:00:00\",\"2022-06-16T00:00:00\",\"2022-06-17T00:00:00\",\"2022-06-21T00:00:00\",\"2022-06-22T00:00:00\",\"2022-06-23T00:00:00\",\"2022-06-24T00:00:00\",\"2022-06-27T00:00:00\",\"2022-06-28T00:00:00\",\"2022-06-29T00:00:00\",\"2022-06-30T00:00:00\",\"2022-07-01T00:00:00\",\"2022-07-05T00:00:00\",\"2022-07-06T00:00:00\",\"2022-07-07T00:00:00\",\"2022-07-08T00:00:00\",\"2022-07-11T00:00:00\",\"2022-07-12T00:00:00\",\"2022-07-13T00:00:00\",\"2022-07-14T00:00:00\",\"2022-07-15T00:00:00\",\"2022-07-18T00:00:00\",\"2022-07-19T00:00:00\",\"2022-07-20T00:00:00\",\"2022-07-21T00:00:00\",\"2022-07-22T00:00:00\",\"2022-07-25T00:00:00\",\"2022-07-26T00:00:00\",\"2022-07-27T00:00:00\",\"2022-07-28T00:00:00\",\"2022-07-29T00:00:00\",\"2022-08-01T00:00:00\",\"2022-08-02T00:00:00\",\"2022-08-03T00:00:00\",\"2022-08-04T00:00:00\",\"2022-08-05T00:00:00\",\"2022-08-08T00:00:00\",\"2022-08-09T00:00:00\",\"2022-08-10T00:00:00\",\"2022-08-11T00:00:00\",\"2022-08-12T00:00:00\",\"2022-08-15T00:00:00\",\"2022-08-16T00:00:00\",\"2022-08-17T00:00:00\",\"2022-08-18T00:00:00\",\"2022-08-19T00:00:00\",\"2022-08-22T00:00:00\",\"2022-08-23T00:00:00\",\"2022-08-24T00:00:00\",\"2022-08-25T00:00:00\",\"2022-08-26T00:00:00\",\"2022-08-29T00:00:00\",\"2022-08-30T00:00:00\",\"2022-08-31T00:00:00\",\"2022-09-01T00:00:00\",\"2022-09-02T00:00:00\",\"2022-09-06T00:00:00\",\"2022-09-07T00:00:00\",\"2022-09-08T00:00:00\",\"2022-09-09T00:00:00\",\"2022-09-12T00:00:00\",\"2022-09-13T00:00:00\",\"2022-09-14T00:00:00\",\"2022-09-15T00:00:00\",\"2022-09-16T00:00:00\",\"2022-09-19T00:00:00\",\"2022-09-20T00:00:00\",\"2022-09-21T00:00:00\",\"2022-09-22T00:00:00\",\"2022-09-23T00:00:00\",\"2022-09-26T00:00:00\",\"2022-09-27T00:00:00\",\"2022-09-28T00:00:00\",\"2022-09-29T00:00:00\",\"2022-09-30T00:00:00\",\"2022-10-03T00:00:00\",\"2022-10-04T00:00:00\",\"2022-10-05T00:00:00\",\"2022-10-06T00:00:00\",\"2022-10-07T00:00:00\",\"2022-10-10T00:00:00\",\"2022-10-11T00:00:00\",\"2022-10-12T00:00:00\",\"2022-10-13T00:00:00\",\"2022-10-14T00:00:00\",\"2022-10-17T00:00:00\",\"2022-10-18T00:00:00\",\"2022-10-19T00:00:00\",\"2022-10-20T00:00:00\",\"2022-10-21T00:00:00\",\"2022-10-24T00:00:00\",\"2022-10-25T00:00:00\",\"2022-10-26T00:00:00\",\"2022-10-27T00:00:00\",\"2022-10-28T00:00:00\",\"2022-10-31T00:00:00\",\"2022-11-01T00:00:00\",\"2022-11-02T00:00:00\",\"2022-11-03T00:00:00\",\"2022-11-04T00:00:00\",\"2022-11-07T00:00:00\",\"2022-11-08T00:00:00\",\"2022-11-09T00:00:00\",\"2022-11-10T00:00:00\",\"2022-11-11T00:00:00\",\"2022-11-14T00:00:00\",\"2022-11-15T00:00:00\",\"2022-11-16T00:00:00\",\"2022-11-17T00:00:00\"],\"y\":[18.179323,17.664547,18.49933,20.052286,21.327349,21.99898,22.338757,22.878908,23.049498,22.915743,22.471132,22.829245,23.276106,23.000603,22.785227,23.071844,23.281343,22.660349,21.895939,21.486761,21.163298,20.97331,20.904049,20.765772,19.932905,19.711115,19.892344,19.215502,18.598162,18.627192,18.676714,17.942818,17.8328,17.871588,17.92489,18.116867,18.194809,18.268354,17.308388,16.148573,15.4712305,14.853571,14.762043,15.999911,17.373487,17.564184,17.714003,17.94736,18.46191,18.485981,17.941505,17.858366,18.489607,19.266115,19.788294,19.293425,18.68225,18.912994,19.874355,19.86516,20.442223,20.63822,19.42142,17.683844,16.784473,17.077541,17.084566,16.922499,17.364,17.879513,18.563492,19.309528,19.557318,19.337969,18.637629,18.45254,18.978128,19.825651,20.33209,20.180397,20.145464,19.824205,19.283243,19.671446,19.525826,19.330818,19.600292,19.851198,20.363678,21.173159,20.794556,19.151041,18.568312,18.311464,18.762438,18.920343,18.972391,19.394274,20.229485,21.00176,21.332209,21.798487,22.037695,22.032356,22.474207,22.551687,22.621468,22.484274,22.366827,22.109133,21.457552,20.143202,19.652401,19.820303,20.139324,19.943325,19.243382,18.960709,18.715935,17.09354,15.517195,14.82276,14.88282,14.95041,15.169118,15.4862995,15.46717,15.343175,15.236228,14.918326,14.593299,14.191432,13.94779,13.687804,13.598439,13.3987875,13.343075,13.297817,13.122844,13.01887,13.014442,13.443774,13.754707,13.854306,13.4650545,13.064557,12.688024,12.512978,12.519944,12.395934,12.565455,12.647321,12.776046,12.850369,12.851787,12.871648,12.992034,13.077105,13.227199,13.363925,13.442805,13.443707,13.146332,12.906906,12.660446,12.723104,12.838159,12.742272,13.216226,14.05812,14.672008,14.709699,14.317136],\"type\":\"scatter\"},{\"name\":\"Validation Predictions\",\"x\":[\"2022-11-18T00:00:00\",\"2022-11-21T00:00:00\",\"2022-11-22T00:00:00\",\"2022-11-23T00:00:00\",\"2022-11-25T00:00:00\",\"2022-11-28T00:00:00\",\"2022-11-29T00:00:00\",\"2022-11-30T00:00:00\",\"2022-12-01T00:00:00\",\"2022-12-02T00:00:00\",\"2022-12-05T00:00:00\",\"2022-12-06T00:00:00\",\"2022-12-07T00:00:00\",\"2022-12-08T00:00:00\",\"2022-12-09T00:00:00\",\"2022-12-12T00:00:00\",\"2022-12-13T00:00:00\",\"2022-12-14T00:00:00\",\"2022-12-15T00:00:00\",\"2022-12-16T00:00:00\",\"2022-12-19T00:00:00\",\"2022-12-20T00:00:00\",\"2022-12-21T00:00:00\",\"2022-12-22T00:00:00\",\"2022-12-23T00:00:00\",\"2022-12-27T00:00:00\",\"2022-12-28T00:00:00\",\"2022-12-29T00:00:00\",\"2022-12-30T00:00:00\",\"2023-01-03T00:00:00\",\"2023-01-04T00:00:00\",\"2023-01-05T00:00:00\",\"2023-01-06T00:00:00\",\"2023-01-09T00:00:00\",\"2023-01-10T00:00:00\",\"2023-01-11T00:00:00\",\"2023-01-12T00:00:00\",\"2023-01-13T00:00:00\",\"2023-01-17T00:00:00\",\"2023-01-18T00:00:00\",\"2023-01-19T00:00:00\",\"2023-01-20T00:00:00\",\"2023-01-23T00:00:00\",\"2023-01-24T00:00:00\",\"2023-01-25T00:00:00\",\"2023-01-26T00:00:00\",\"2023-01-27T00:00:00\",\"2023-01-30T00:00:00\",\"2023-01-31T00:00:00\",\"2023-02-01T00:00:00\"],\"y\":[14.051091,13.576368,13.156538,12.889691,12.88407,12.97424,12.973049,12.843539,13.008164,13.282845,13.611386,13.40507,12.994575,12.638318,12.7811775,12.773868,13.208726,13.309811,13.538776,13.253739,13.106392,12.814944,12.664374,12.42603,12.071063,11.856092,11.435469,11.27444,11.253026,11.377599,11.629395,11.792218,11.637715,11.685794,11.604799,11.747525,12.04812,12.266766,12.683732,13.132956,13.477706,13.586993,13.689294,14.204095,14.695357,14.972753,15.189097,16.405096,17.284794,18.13965],\"type\":\"scatter\"},{\"name\":\"Testing Predictions\",\"x\":[\"2023-02-02T00:00:00\",\"2023-02-03T00:00:00\",\"2023-02-06T00:00:00\",\"2023-02-07T00:00:00\",\"2023-02-08T00:00:00\",\"2023-02-09T00:00:00\",\"2023-02-10T00:00:00\",\"2023-02-13T00:00:00\",\"2023-02-14T00:00:00\",\"2023-02-15T00:00:00\",\"2023-02-16T00:00:00\",\"2023-02-17T00:00:00\",\"2023-02-21T00:00:00\",\"2023-02-22T00:00:00\",\"2023-02-23T00:00:00\",\"2023-02-24T00:00:00\",\"2023-02-27T00:00:00\",\"2023-02-28T00:00:00\",\"2023-03-01T00:00:00\",\"2023-03-02T00:00:00\",\"2023-03-03T00:00:00\",\"2023-03-06T00:00:00\",\"2023-03-07T00:00:00\",\"2023-03-08T00:00:00\",\"2023-03-09T00:00:00\"],\"y\":[20.491098,21.819677,22.812654,24.06159,24.492174,24.306314,23.92123,23.092293,22.457865,22.151854,23.198088,23.840157,23.71729,23.081976,22.269423,22.478018,22.664392,22.47855,22.419443,22.151114,21.42065,22.8288,24.34047,24.82907,24.470129],\"type\":\"scatter\"}],                        {\"title\":{\"text\":\"Predictions Plot\"},\"template\":{\"data\":{\"histogram2dcontour\":[{\"type\":\"histogram2dcontour\",\"colorbar\":{\"outlinewidth\":0,\"ticks\":\"\"},\"colorscale\":[[0.0,\"#0d0887\"],[0.1111111111111111,\"#46039f\"],[0.2222222222222222,\"#7201a8\"],[0.3333333333333333,\"#9c179e\"],[0.4444444444444444,\"#bd3786\"],[0.5555555555555556,\"#d8576b\"],[0.6666666666666666,\"#ed7953\"],[0.7777777777777778,\"#fb9f3a\"],[0.8888888888888888,\"#fdca26\"],[1.0,\"#f0f921\"]]}],\"choropleth\":[{\"type\":\"choropleth\",\"colorbar\":{\"outlinewidth\":0,\"ticks\":\"\"}}],\"histogram2d\":[{\"type\":\"histogram2d\",\"colorbar\":{\"outlinewidth\":0,\"ticks\":\"\"},\"colorscale\":[[0.0,\"#0d0887\"],[0.1111111111111111,\"#46039f\"],[0.2222222222222222,\"#7201a8\"],[0.3333333333333333,\"#9c179e\"],[0.4444444444444444,\"#bd3786\"],[0.5555555555555556,\"#d8576b\"],[0.6666666666666666,\"#ed7953\"],[0.7777777777777778,\"#fb9f3a\"],[0.8888888888888888,\"#fdca26\"],[1.0,\"#f0f921\"]]}],\"heatmap\":[{\"type\":\"heatmap\",\"colorbar\":{\"outlinewidth\":0,\"ticks\":\"\"},\"colorscale\":[[0.0,\"#0d0887\"],[0.1111111111111111,\"#46039f\"],[0.2222222222222222,\"#7201a8\"],[0.3333333333333333,\"#9c179e\"],[0.4444444444444444,\"#bd3786\"],[0.5555555555555556,\"#d8576b\"],[0.6666666666666666,\"#ed7953\"],[0.7777777777777778,\"#fb9f3a\"],[0.8888888888888888,\"#fdca26\"],[1.0,\"#f0f921\"]]}],\"heatmapgl\":[{\"type\":\"heatmapgl\",\"colorbar\":{\"outlinewidth\":0,\"ticks\":\"\"},\"colorscale\":[[0.0,\"#0d0887\"],[0.1111111111111111,\"#46039f\"],[0.2222222222222222,\"#7201a8\"],[0.3333333333333333,\"#9c179e\"],[0.4444444444444444,\"#bd3786\"],[0.5555555555555556,\"#d8576b\"],[0.6666666666666666,\"#ed7953\"],[0.7777777777777778,\"#fb9f3a\"],[0.8888888888888888,\"#fdca26\"],[1.0,\"#f0f921\"]]}],\"contourcarpet\":[{\"type\":\"contourcarpet\",\"colorbar\":{\"outlinewidth\":0,\"ticks\":\"\"}}],\"contour\":[{\"type\":\"contour\",\"colorbar\":{\"outlinewidth\":0,\"ticks\":\"\"},\"colorscale\":[[0.0,\"#0d0887\"],[0.1111111111111111,\"#46039f\"],[0.2222222222222222,\"#7201a8\"],[0.3333333333333333,\"#9c179e\"],[0.4444444444444444,\"#bd3786\"],[0.5555555555555556,\"#d8576b\"],[0.6666666666666666,\"#ed7953\"],[0.7777777777777778,\"#fb9f3a\"],[0.8888888888888888,\"#fdca26\"],[1.0,\"#f0f921\"]]}],\"surface\":[{\"type\":\"surface\",\"colorbar\":{\"outlinewidth\":0,\"ticks\":\"\"},\"colorscale\":[[0.0,\"#0d0887\"],[0.1111111111111111,\"#46039f\"],[0.2222222222222222,\"#7201a8\"],[0.3333333333333333,\"#9c179e\"],[0.4444444444444444,\"#bd3786\"],[0.5555555555555556,\"#d8576b\"],[0.6666666666666666,\"#ed7953\"],[0.7777777777777778,\"#fb9f3a\"],[0.8888888888888888,\"#fdca26\"],[1.0,\"#f0f921\"]]}],\"mesh3d\":[{\"type\":\"mesh3d\",\"colorbar\":{\"outlinewidth\":0,\"ticks\":\"\"}}],\"scatter\":[{\"fillpattern\":{\"fillmode\":\"overlay\",\"size\":10,\"solidity\":0.2},\"type\":\"scatter\"}],\"parcoords\":[{\"type\":\"parcoords\",\"line\":{\"colorbar\":{\"outlinewidth\":0,\"ticks\":\"\"}}}],\"scatterpolargl\":[{\"type\":\"scatterpolargl\",\"marker\":{\"colorbar\":{\"outlinewidth\":0,\"ticks\":\"\"}}}],\"bar\":[{\"error_x\":{\"color\":\"#2a3f5f\"},\"error_y\":{\"color\":\"#2a3f5f\"},\"marker\":{\"line\":{\"color\":\"#E5ECF6\",\"width\":0.5},\"pattern\":{\"fillmode\":\"overlay\",\"size\":10,\"solidity\":0.2}},\"type\":\"bar\"}],\"scattergeo\":[{\"type\":\"scattergeo\",\"marker\":{\"colorbar\":{\"outlinewidth\":0,\"ticks\":\"\"}}}],\"scatterpolar\":[{\"type\":\"scatterpolar\",\"marker\":{\"colorbar\":{\"outlinewidth\":0,\"ticks\":\"\"}}}],\"histogram\":[{\"marker\":{\"pattern\":{\"fillmode\":\"overlay\",\"size\":10,\"solidity\":0.2}},\"type\":\"histogram\"}],\"scattergl\":[{\"type\":\"scattergl\",\"marker\":{\"colorbar\":{\"outlinewidth\":0,\"ticks\":\"\"}}}],\"scatter3d\":[{\"type\":\"scatter3d\",\"line\":{\"colorbar\":{\"outlinewidth\":0,\"ticks\":\"\"}},\"marker\":{\"colorbar\":{\"outlinewidth\":0,\"ticks\":\"\"}}}],\"scattermapbox\":[{\"type\":\"scattermapbox\",\"marker\":{\"colorbar\":{\"outlinewidth\":0,\"ticks\":\"\"}}}],\"scatterternary\":[{\"type\":\"scatterternary\",\"marker\":{\"colorbar\":{\"outlinewidth\":0,\"ticks\":\"\"}}}],\"scattercarpet\":[{\"type\":\"scattercarpet\",\"marker\":{\"colorbar\":{\"outlinewidth\":0,\"ticks\":\"\"}}}],\"carpet\":[{\"aaxis\":{\"endlinecolor\":\"#2a3f5f\",\"gridcolor\":\"white\",\"linecolor\":\"white\",\"minorgridcolor\":\"white\",\"startlinecolor\":\"#2a3f5f\"},\"baxis\":{\"endlinecolor\":\"#2a3f5f\",\"gridcolor\":\"white\",\"linecolor\":\"white\",\"minorgridcolor\":\"white\",\"startlinecolor\":\"#2a3f5f\"},\"type\":\"carpet\"}],\"table\":[{\"cells\":{\"fill\":{\"color\":\"#EBF0F8\"},\"line\":{\"color\":\"white\"}},\"header\":{\"fill\":{\"color\":\"#C8D4E3\"},\"line\":{\"color\":\"white\"}},\"type\":\"table\"}],\"barpolar\":[{\"marker\":{\"line\":{\"color\":\"#E5ECF6\",\"width\":0.5},\"pattern\":{\"fillmode\":\"overlay\",\"size\":10,\"solidity\":0.2}},\"type\":\"barpolar\"}],\"pie\":[{\"automargin\":true,\"type\":\"pie\"}]},\"layout\":{\"autotypenumbers\":\"strict\",\"colorway\":[\"#636efa\",\"#EF553B\",\"#00cc96\",\"#ab63fa\",\"#FFA15A\",\"#19d3f3\",\"#FF6692\",\"#B6E880\",\"#FF97FF\",\"#FECB52\"],\"font\":{\"color\":\"#2a3f5f\"},\"hovermode\":\"closest\",\"hoverlabel\":{\"align\":\"left\"},\"paper_bgcolor\":\"white\",\"plot_bgcolor\":\"#E5ECF6\",\"polar\":{\"bgcolor\":\"#E5ECF6\",\"angularaxis\":{\"gridcolor\":\"white\",\"linecolor\":\"white\",\"ticks\":\"\"},\"radialaxis\":{\"gridcolor\":\"white\",\"linecolor\":\"white\",\"ticks\":\"\"}},\"ternary\":{\"bgcolor\":\"#E5ECF6\",\"aaxis\":{\"gridcolor\":\"white\",\"linecolor\":\"white\",\"ticks\":\"\"},\"baxis\":{\"gridcolor\":\"white\",\"linecolor\":\"white\",\"ticks\":\"\"},\"caxis\":{\"gridcolor\":\"white\",\"linecolor\":\"white\",\"ticks\":\"\"}},\"coloraxis\":{\"colorbar\":{\"outlinewidth\":0,\"ticks\":\"\"}},\"colorscale\":{\"sequential\":[[0.0,\"#0d0887\"],[0.1111111111111111,\"#46039f\"],[0.2222222222222222,\"#7201a8\"],[0.3333333333333333,\"#9c179e\"],[0.4444444444444444,\"#bd3786\"],[0.5555555555555556,\"#d8576b\"],[0.6666666666666666,\"#ed7953\"],[0.7777777777777778,\"#fb9f3a\"],[0.8888888888888888,\"#fdca26\"],[1.0,\"#f0f921\"]],\"sequentialminus\":[[0.0,\"#0d0887\"],[0.1111111111111111,\"#46039f\"],[0.2222222222222222,\"#7201a8\"],[0.3333333333333333,\"#9c179e\"],[0.4444444444444444,\"#bd3786\"],[0.5555555555555556,\"#d8576b\"],[0.6666666666666666,\"#ed7953\"],[0.7777777777777778,\"#fb9f3a\"],[0.8888888888888888,\"#fdca26\"],[1.0,\"#f0f921\"]],\"diverging\":[[0,\"#8e0152\"],[0.1,\"#c51b7d\"],[0.2,\"#de77ae\"],[0.3,\"#f1b6da\"],[0.4,\"#fde0ef\"],[0.5,\"#f7f7f7\"],[0.6,\"#e6f5d0\"],[0.7,\"#b8e186\"],[0.8,\"#7fbc41\"],[0.9,\"#4d9221\"],[1,\"#276419\"]]},\"xaxis\":{\"gridcolor\":\"white\",\"linecolor\":\"white\",\"ticks\":\"\",\"title\":{\"standoff\":15},\"zerolinecolor\":\"white\",\"automargin\":true,\"zerolinewidth\":2},\"yaxis\":{\"gridcolor\":\"white\",\"linecolor\":\"white\",\"ticks\":\"\",\"title\":{\"standoff\":15},\"zerolinecolor\":\"white\",\"automargin\":true,\"zerolinewidth\":2},\"scene\":{\"xaxis\":{\"backgroundcolor\":\"#E5ECF6\",\"gridcolor\":\"white\",\"linecolor\":\"white\",\"showbackground\":true,\"ticks\":\"\",\"zerolinecolor\":\"white\",\"gridwidth\":2},\"yaxis\":{\"backgroundcolor\":\"#E5ECF6\",\"gridcolor\":\"white\",\"linecolor\":\"white\",\"showbackground\":true,\"ticks\":\"\",\"zerolinecolor\":\"white\",\"gridwidth\":2},\"zaxis\":{\"backgroundcolor\":\"#E5ECF6\",\"gridcolor\":\"white\",\"linecolor\":\"white\",\"showbackground\":true,\"ticks\":\"\",\"zerolinecolor\":\"white\",\"gridwidth\":2}},\"shapedefaults\":{\"line\":{\"color\":\"#2a3f5f\"}},\"annotationdefaults\":{\"arrowcolor\":\"#2a3f5f\",\"arrowhead\":0,\"arrowwidth\":1},\"geo\":{\"bgcolor\":\"white\",\"landcolor\":\"#E5ECF6\",\"subunitcolor\":\"white\",\"showland\":true,\"showlakes\":true,\"lakecolor\":\"white\"},\"title\":{\"x\":0.05},\"mapbox\":{\"style\":\"light\"}}}},                        {\"responsive\": true}                    ).then(function(){\n",
       "                            \n",
       "var gd = document.getElementById('45cbe8db-e8d9-4089-bb0b-94b983fd9fc9');\n",
       "var x = new MutationObserver(function (mutations, observer) {{\n",
       "        var display = window.getComputedStyle(gd).display;\n",
       "        if (!display || display === 'none') {{\n",
       "            console.log([gd, 'removed!']);\n",
       "            Plotly.purge(gd);\n",
       "            observer.disconnect();\n",
       "        }}\n",
       "}});\n",
       "\n",
       "// Listen for the removal of the full notebook cells\n",
       "var notebookContainer = gd.closest('#notebook-container');\n",
       "if (notebookContainer) {{\n",
       "    x.observe(notebookContainer, {childList: true});\n",
       "}}\n",
       "\n",
       "// Listen for the clearing of the current output cell\n",
       "var outputEl = gd.closest('.output');\n",
       "if (outputEl) {{\n",
       "    x.observe(outputEl, {childList: true});\n",
       "}}\n",
       "\n",
       "                        })                };                });            </script>        </div>"
      ]
     },
     "metadata": {},
     "output_type": "display_data"
    }
   ],
   "source": [
    "# Creating traces for all results\n",
    "trace_y = go.Scatter(x=dates, y=y, name='Observations', opacity=0.5, line=dict(color='grey'))\n",
    "trace_train_pred = go.Scatter(x=dates_train, y=train_predictions, name='Training Predictions')\n",
    "trace_val_pred = go.Scatter(x=dates_val, y=val_predictions, name='Validation Predictions')\n",
    "trace_test_pred = go.Scatter(x=dates_test, y=test_predictions, name='Testing Predictions')\n",
    "\n",
    "# Combining traces, setting layout and plotting figure\n",
    "data = [trace_y, trace_train_pred, trace_val_pred, trace_test_pred]\n",
    "layout = go.Layout(title='Predictions Plot')\n",
    "fig = go.Figure(data=data, layout=layout)\n",
    "fig.show()"
   ]
  },
  {
   "cell_type": "markdown",
   "id": "15a9c532",
   "metadata": {
    "papermill": {
     "duration": 0.023669,
     "end_time": "2023-03-12T10:24:58.342339",
     "exception": false,
     "start_time": "2023-03-12T10:24:58.318670",
     "status": "completed"
    },
    "tags": []
   },
   "source": [
    "# <div style=\"color:white;display:fill;border-radius:20px;background-color:#f4ebdc;font-size:70%;font-family:Charter;letter-spacing:1px\"><h3 style='padding: 20px;color:#8b4726;text-align:center;'>Summary</h3></div>"
   ]
  },
  {
   "cell_type": "markdown",
   "id": "8cc76029",
   "metadata": {
    "papermill": {
     "duration": 0.023297,
     "end_time": "2023-03-12T10:24:58.389544",
     "exception": false,
     "start_time": "2023-03-12T10:24:58.366247",
     "status": "completed"
    },
    "tags": []
   },
   "source": [
    "So, based on what we've seen, it seems like we're on the right track with using LSTM neural networks to predict future stock prices. Our exploratory data analysis helped us to gain insights into the C3.AI Stocks Dataset and understand the trends and patterns in the data. \n",
    "In preprocessing creating 3 lag features, splitting the data into training, validation, and testing sets was also a crucial step before building and training the LSTM model on the training set.\n",
    "\n",
    "I'm quite impressed by the ability of the LSTM model to capture long-term dependencies in time-series data and make accurate predictions on future stock prices. This gives me confidence that we can use this knowledge to apply LSTM networks to other forecasting tasks as well.\n",
    "\n",
    "Overall, I believe that this notebook provides a useful basic guide for applying LSTM networks to stock price prediction tasks and provides a foundation for further exploration and development in this area."
   ]
  }
 ],
 "metadata": {
  "kernelspec": {
   "display_name": "Python 3",
   "language": "python",
   "name": "python3"
  },
  "language_info": {
   "codemirror_mode": {
    "name": "ipython",
    "version": 3
   },
   "file_extension": ".py",
   "mimetype": "text/x-python",
   "name": "python",
   "nbconvert_exporter": "python",
   "pygments_lexer": "ipython3",
   "version": "3.7.12"
  },
  "papermill": {
   "default_parameters": {},
   "duration": 32.911538,
   "end_time": "2023-03-12T10:25:01.719347",
   "environment_variables": {},
   "exception": null,
   "input_path": "__notebook__.ipynb",
   "output_path": "__notebook__.ipynb",
   "parameters": {},
   "start_time": "2023-03-12T10:24:28.807809",
   "version": "2.4.0"
  }
 },
 "nbformat": 4,
 "nbformat_minor": 5
}
